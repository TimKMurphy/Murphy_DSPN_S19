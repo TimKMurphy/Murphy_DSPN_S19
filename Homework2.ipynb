{
 "cells": [
  {
   "cell_type": "markdown",
   "metadata": {},
   "source": [
    "# Homework 2: "
   ]
  },
  {
   "cell_type": "markdown",
   "metadata": {},
   "source": [
    "### **Conceptual:** Short answer questions. Be concise."
   ]
  },
  {
   "cell_type": "markdown",
   "metadata": {},
   "source": [
    "---\n",
    "1. How does knowing data type (e.g., qualitative vs. quantitative) provide insights into the type of distribution a random variable comes from?"
   ]
  },
  {
   "cell_type": "markdown",
   "metadata": {},
   "source": [
    "**Answer:** Knowing data type can tell us the bounds of our distribution and whether or not our distribution is made up of continuous or discrete elements. With regards to quantitative data, distributions may not be bound (data can be infinitely positive or infinitely negative, e.g. Cauchy Distribution?), bounded on one end (0 to postive/ negative infinity, e.g. Chi-squared distribution), or bounded on two ends (e.g. Normal distribution). Additionally, quantitative data can be drawn from distributions which are composed of continuous or discrete elements. With regards to qualitative data, the properties of the  distribution from which data are drawn is always bounded - in this sense, we know that data drawn from the distribution can only be part of a finite set of possiblities. Additionally, qualitative data cannot be drawn from a continuous distribution - only discrete (or more appropriately, distinct) values may be obtained."
   ]
  },
  {
   "cell_type": "markdown",
   "metadata": {},
   "source": [
    "---\n",
    "2. What exactly does it mean to say that a data point is a \"random variable is normal with a mean of 100 and standard deviation of 15\"?"
   ]
  },
  {
   "cell_type": "markdown",
   "metadata": {},
   "source": [
    "**Answer:** A random variable is a variable which denotes the distribution of certain values (data points) which can be obtained from a given process (the distribution of values in a population). When a random variable is said to be normal, this means that values drawn from the random variable population are normally distributed. The random variable described in this question is normal with a mean of 100 and an SD of 15. What this means is that if we continously sample from this random variable, the average value of our sample will converge to 100 (the population mean) as the sample grows larger. With regard to the standard deviation of 15, this is saying that ~68% of the observations we sample from the random variable will fall within a range of plus or minus 15 from the mean (here, 85-115) as we sample continuously from the populaiton. "
   ]
  },
  {
   "cell_type": "markdown",
   "metadata": {},
   "source": [
    "---\n",
    "### **Applied:** Show your code & plots"
   ]
  },
  {
   "cell_type": "markdown",
   "metadata": {},
   "source": [
    "---\n",
    "\n",
    "\n",
    "The *central limit theorem* states that when independent random variables are added together, they sum to a normal distribution even if the original variables themselves are not normally distributed. For your homework test this assumption.\n",
    "\n",
    "3. Using the *runif* function, run three experiments by simulating the outcomes of rolling a single, six-sided die. Show the distribution of each experiment. Show how the simulated means compare to the expected mean of a fair roll.\n",
    "        \ta) Exp 1: 10 independent throws\n",
    "        \tb) Exp 2: 1,000 independent throws\n",
    "        \tc) Exp 3: 10,000 independent throws\n"
   ]
  },
  {
   "cell_type": "code",
   "execution_count": 8,
   "metadata": {},
   "outputs": [
    {
     "name": "stdout",
     "output_type": "stream",
     "text": [
      "10 ROLLS\n",
      " Rolling a fair die several times should yeild an average value of 3.5.\n",
      " Here, a die was rolled  10  times and yielded an average value of  3.2 .\n",
      " This value only differs from the expected average value by  0.3 \n",
      "NULL\n"
     ]
    },
    {
     "data": {
      "image/png": "[encoded data removed]",
      "text/plain": [
       "plot without title"
      ]
     },
     "metadata": {},
     "output_type": "display_data"
    },
    {
     "name": "stdout",
     "output_type": "stream",
     "text": [
      "1000 ROLLS\n",
      " Rolling a fair die several times should yeild an average value of 3.5.\n",
      " Here, a die was rolled  1000  times and yielded an average value of  3.434 .\n",
      " This value only differs from the expected average value by  0.066 \n",
      "NULL\n"
     ]
    },
    {
     "data": {
      "image/png": "[encoded data removed]",
      "text/plain": [
       "plot without title"
      ]
     },
     "metadata": {},
     "output_type": "display_data"
    },
    {
     "name": "stdout",
     "output_type": "stream",
     "text": [
      "10000 ROLLS\n",
      " Rolling a fair die several times should yeild an average value of 3.5.\n",
      " Here, a die was rolled  10000  times and yielded an average value of  3.4914 .\n",
      " This value only differs from the expected average value by  0.0086 \n",
      "NULL\n"
     ]
    },
    {
     "data": {
      "image/png": "[encoded data removed]",
      "text/plain": [
       "plot without title"
      ]
     },
     "metadata": {},
     "output_type": "display_data"
    }
   ],
   "source": [
    "# -------------------------------\n",
    "# Question 3\n",
    "# -------------------------------\n",
    "\n",
    "# INSERT CODE HERE\n",
    "\n",
    "library(ggplot2)\n",
    "options(repr.plot.width=4, repr.plot.height=3)\n",
    "\n",
    "#Dice min/max\n",
    "mn=0 #while 0 is not a possible dice roll, the ceiling operation I will use will gaurentee 1 or greater\n",
    "mx=6\n",
    "\n",
    "amt_roll = c(10, 1000, 10000)\n",
    "\n",
    "\n",
    "for (i in 1:3)\n",
    "    {\n",
    "    rnd_dice = data.frame(roll_results=ceiling(runif(amt_roll[i], min=mn, max=mx)))\n",
    "    print(ggplot(rnd_dice, aes(roll_results))+geom_bar(alpha=.2))\n",
    "    \n",
    "    answer_text <- cat(amt_roll[i], \"ROLLS\\n\", \"Rolling a fair die several times should yeild an average value of 3.5.\\n\",\n",
    "                      \"Here, a die was rolled \", amt_roll[i], \" times and yielded an average value of \", mean(rnd_dice$roll_results), \".\\n\",\n",
    "                      \"This value only differs from the expected average value by \" , (3.5-mean(rnd_dice$roll_results)),\"\\n\")\n",
    "    \n",
    "    print(answer_text)\n",
    "    }\n"
   ]
  },
  {
   "cell_type": "markdown",
   "metadata": {},
   "source": [
    "---\n",
    "4. Instead of rolling one die, run a set of experiments reporting the outcomes of rolling multiple dice at the same time.\n",
    "        \ta) Exp 1: 10,000 throws, 1 die\n",
    "        \tb) Exp 2: 10,000 throws, 2 dice\n",
    "        \tc) Exp 3: 10,000 throws, 3 dice\n",
    "        \td) Exp 4; 10,000 throws, 6 dice.\n",
    "\n",
    "Show the distribution of results for each experiment. Which of these experiments produces a distribution most similar to a normal normal distribution? Justify your conclusion using Q-Q plots."
   ]
  },
  {
   "cell_type": "markdown",
   "metadata": {},
   "source": [
    "**Answer:** "
   ]
  },
  {
   "cell_type": "code",
   "execution_count": 11,
   "metadata": {},
   "outputs": [
    {
     "name": "stdout",
     "output_type": "stream",
     "text": [
      "The distribution most similiar to the normal distribution is found when 6 dice are thrown 10,000 times.\n",
      " This is illustrated in it's QQ plot below (last plot listed). In this plot, the x-axis represents expected values from a \n",
      " normal distribution. On the y-axis, data points obtain from our experiment are represented.\n",
      " From this plot, it can be seen that the points between the expected and observed form a straight line.\n",
      " Because the expected values on x map directly to y in a x=y fashion, we can conclude that the distribution of\n",
      " our observed values is similar to those from the expected values.\n",
      " Because the expected values are from a distribution known to be normal, we can conclude then that our observed \n",
      " data is drawn from a normal distribution as well. It should be noted that the QQ plots obtained when less dice are thrown \n",
      " also show a somewhat linear relationship between observed and expected values. However, points near the max and min of \n",
      " the dice rolls are observed at a higher rate than would be seen in a normal distribuiton \n",
      " which can be seen by the extended horizontal line at the ends of the line qq plots. \n",
      "NULL\n"
     ]
    },
    {
     "data": {
      "image/png": "[encoded data removed]",
      "text/plain": [
       "plot without title"
      ]
     },
     "metadata": {},
     "output_type": "display_data"
    },
    {
     "data": {
      "image/png": "[encoded data removed]",
      "text/plain": [
       "plot without title"
      ]
     },
     "metadata": {},
     "output_type": "display_data"
    },
    {
     "data": {
      "image/png": "[encoded data removed]",
      "text/plain": [
       "plot without title"
      ]
     },
     "metadata": {},
     "output_type": "display_data"
    },
    {
     "data": {
      "image/png": "[encoded data removed]",
      "text/plain": [
       "plot without title"
      ]
     },
     "metadata": {},
     "output_type": "display_data"
    },
    {
     "data": {
      "image/png": "[encoded data removed]",
      "text/plain": [
       "plot without title"
      ]
     },
     "metadata": {},
     "output_type": "display_data"
    },
    {
     "data": {
      "image/png": "[encoded data removed]",
      "text/plain": [
       "plot without title"
      ]
     },
     "metadata": {},
     "output_type": "display_data"
    },
    {
     "data": {
      "image/png": "[encoded data removed]",
      "text/plain": [
       "plot without title"
      ]
     },
     "metadata": {},
     "output_type": "display_data"
    },
    {
     "data": {
      "image/png": "[encoded data removed]",
      "text/plain": [
       "plot without title"
      ]
     },
     "metadata": {},
     "output_type": "display_data"
    }
   ],
   "source": [
    "# -------------------------------\n",
    "# Question 4\n",
    "# -------------------------------\n",
    "\n",
    "# INSERT CODE HERE\n",
    "mn=0\n",
    "mx=6\n",
    "throws=10000\n",
    "\n",
    "dice_thrower = function(num_throws, num_dice)\n",
    "    {\n",
    "        dice_holder=data.frame(dice=ceiling(runif(num_throws, min=mn, max=mx)))\n",
    "        for (i in 2:num_dice)\n",
    "            {\n",
    "            dice=ceiling(runif(num_throws, min=mn, max=mx))\n",
    "            dice_holder=cbind(dice_holder, dice)\n",
    "            }\n",
    "        colnames(dice_holder)=c(1:num_dice)\n",
    "        return(dice_holder)\n",
    "    }\n",
    "\n",
    "print(cat(\"The distribution most similiar to the normal distribution is found when 6 dice are thrown 10,000 times.\\n\",\n",
    "\"This is illustrated in it's QQ plot below (last plot listed). In this plot, the x-axis represents expected values from a \\n normal distribution.\",\n",
    "\"On the y-axis, data points obtain from our experiment are represented.\\n\",\n",
    "\"From this plot, it can be seen that the points between the expected and observed form a straight line.\\n\",\n",
    "\"Because the expected values on x map directly to y in a x=y fashion, we can conclude that the distribution of\\n\",\n",
    "\"our observed values is similar to those from the expected values.\\n\",\n",
    "\"Because the expected values are from a distribution known to be normal, we can conclude then that our observed \\n\",\n",
    "\"data is drawn from a normal distribution as well. It should be noted that the QQ plots obtained when less dice are thrown \\n\",\n",
    "\"also show a somewhat linear relationship between observed and expected values. However, points near the max and min of \\n\",\n",
    "\"the dice rolls are observed at a higher rate than would be seen in a normal distribuiton \\n\",\n",
    "\"which can be seen by the extended horizontal line at the ends of the line qq plots. \\n\"))\n",
    "\n",
    "#experiment 1-4\n",
    "rolls=c(1, 2, 3, 6)\n",
    "for (i in 1:4)\n",
    "    {\n",
    "    #throw die\n",
    "        exp_results=dice_thrower(throws,rolls[i])\n",
    "    #sum columns\n",
    "        roll_summer=exp_results[,1]\n",
    "        if (rolls[i]>1)\n",
    "            {\n",
    "            for (j in 2:rolls[i])\n",
    "            {\n",
    "                roll_summer=roll_summer+exp_results[,j]\n",
    "            }\n",
    "            }\n",
    "        roll_summer=data.frame(roll_summer)\n",
    "    #print distribution\n",
    "        dist_title=paste(\"distribution for \",rolls[i],\"rolls\")\n",
    "        print(ggplot(roll_summer, aes(x=roll_summer))+geom_bar(alpha=.2)+ggtitle(dist_title))\n",
    "    #plot QQ\n",
    "        qq_title=paste(\"QQ plot for \",rolls[i],\"rolls\")\n",
    "        print(ggplot(roll_summer, aes(sample=roll_summer))+stat_qq(distribution=qnorm)+ggtitle(qq_title))\n",
    "            \n",
    "    }\n",
    "        \n"
   ]
  },
  {
   "cell_type": "code",
   "execution_count": 167,
   "metadata": {
    "scrolled": true
   },
   "outputs": [
    {
     "ename": "ERROR",
     "evalue": "Error in eval(expr, envir, enclos): object 'plot_holder' not found\n",
     "output_type": "error",
     "traceback": [
      "Error in eval(expr, envir, enclos): object 'plot_holder' not found\nTraceback:\n"
     ]
    }
   ],
   "source": [
    "plot_holder$norm"
   ]
  },
  {
   "cell_type": "code",
   "execution_count": null,
   "metadata": {},
   "outputs": [],
   "source": []
  }
 ],
 "metadata": {
  "kernelspec": {
   "display_name": "R",
   "language": "R",
   "name": "ir"
  },
  "language_info": {
   "codemirror_mode": "r",
   "file_extension": ".r",
   "mimetype": "text/x-r-source",
   "name": "R",
   "pygments_lexer": "r",
   "version": "3.5.0"
  }
 },
 "nbformat": 4,
 "nbformat_minor": 2
}
