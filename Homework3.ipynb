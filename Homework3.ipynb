{
 "cells": [
  {
   "cell_type": "markdown",
   "metadata": {},
   "source": [
    "# Homework 3: "
   ]
  },
  {
   "cell_type": "markdown",
   "metadata": {},
   "source": [
    "### **Conceptual:** Short answer questions. Be concise"
   ]
  },
  {
   "cell_type": "markdown",
   "metadata": {},
   "source": [
    "---\n",
    "\n",
    "1. Using the mean squared error (MSE) as your objective function allows for a closed form solution to finding the maximum likelihood estimate (MLE) of your model parameters in linear regression. Let’s consider the simple, single predictor variable model $Y= \\beta_0 + \\beta_1 X $. \n",
    "\n",
    "a) Use algebra to show how you can expand out the MSE to get from i to ii below. Do your proof using Latex equation formatting.\n"
   ]
  },
  {
   "cell_type": "markdown",
   "metadata": {},
   "source": [
    " _i)_ $MSE(\\beta_0, \\beta_1)=E[ (Y-(\\beta_0 + \\beta_1 X))^2]$ "
   ]
  },
  {
   "cell_type": "markdown",
   "metadata": {},
   "source": [
    "**Answer:** \n",
    "<br> The MSE function will be expanded like so<br>\n",
    "$E[Y^2+2Y\\beta_0-2\\beta_1XY+(\\beta_0+\\beta_1X)^2]$ <br>\n",
    "$E[Y^2]-E[2Y\\beta_0]-E[2\\beta_1XY]+E[(\\beta_0+\\beta_1X)^2]$<br>\n",
    "$E[Y^2]-2\\beta_0E[Y]-2\\beta_1E[XY]+E[(\\beta_0+\\beta_1X)^2]$<br>\n",
    "$E[Y^2]-2\\beta_0E[Y]-2\\beta_1(Cov(X,Y)+E(Y)E(X))+E[(\\beta_0+\\beta_1X)^2]$<br>\n",
    "$E[Y^2]-2\\beta_0E[Y]-2\\beta_1(Cov(X,Y)+E(Y)E(X))+E[\\beta_0^2+2\\beta_0\\beta_1X+(\\beta_1X)^2]$<br>\n",
    "$E[Y^2]-2\\beta_0E[Y]-2\\beta_1Cov(X,Y)-2\\beta_1E(Y)E(X)+\\beta_0^2+2E\\beta_0\\beta_1E[X]+\\beta_1^2(Var(x))+\\beta_1^2E[(X)]^2$<br>"
   ]
  },
  {
   "cell_type": "markdown",
   "metadata": {},
   "source": [
    "_ii)_ $=E[Y^2] -2 \\beta_0E[Y]-2 \\beta_1 Cov[X,Y]-2 \\beta_1 E[X]E[Y]+ \\beta_0^2 +2 \\beta_0 \\beta_1 E[X]+\\beta_1^2 Var[X]+ \\beta_1^2 (E[X])^2$"
   ]
  },
  {
   "cell_type": "markdown",
   "metadata": {},
   "source": [
    "b) Prove that the MLE of $\\beta_0$ is $E[Y]- \\beta_1 E[X]$ by taking the derivative of _ii_ above, with respect to $\\beta_0$, setting the derivative to zero, and solving for $\\beta_0$."
   ]
  },
  {
   "cell_type": "markdown",
   "metadata": {},
   "source": [
    "**Answer:**<br>\n",
    "$\\frac{\\partial E(\\hat{Y}-(\\hat{\\beta_0} + \\hat{\\beta_1} X)^2)}{\\partial\\hat{\\beta_0}}=E[\\hat{Y}^2] -2 \\hat{\\beta_0}E[\\hat{Y}]-2 \\hat{\\beta_1} Cov[X,\\hat{Y}]-2 \\hat{\\beta_1} E[X]E[\\hat{Y}]+ \\hat{\\beta_0}^2 +2 \\hat{\\beta_0} \\hat{\\beta_1} E[X]+\\hat{\\beta_1}^2 Var[X]+ \\hat{\\beta_1}^2 (E[X])^2$<br>\n",
    "$\\frac{\\partial E(\\hat{Y}-(\\hat{\\beta_0} + \\hat{\\beta_1} X)^2)}{\\partial\\hat{\\beta_0}}=-2 \\hat{\\beta_0}E[\\hat{Y}]+ \\hat{\\beta_0}^2 +2 \\hat{\\beta_0} \\hat{\\beta_1} E[X]$<br>\n",
    "$\\frac{\\partial E(\\hat{Y}-(\\hat{\\beta_0} + \\hat{\\beta_1} X)^2)}{\\partial\\hat{\\beta_0}}=-2 E[\\hat{Y}]+ 2\\hat{\\beta_0} +2 \\hat{\\beta_1} E[X]$<br>\n",
    "$\\frac{\\partial E(\\hat{Y}-(\\hat{\\beta_0} + \\hat{\\beta_1} X)^2)}{\\partial\\hat{\\beta_0}}=-2 (E[\\hat{Y}]-\\hat{\\beta_0} -\\hat{\\beta_1} E[X])$<br>\n",
    "$\\frac{\\partial E(\\hat{Y}-(\\hat{\\beta_0} + \\hat{\\beta_1} X)^2)}{\\partial\\hat{\\beta_0}}=E[\\hat{Y}] -\\hat{\\beta_1} E[X]$<br>"
   ]
  },
  {
   "cell_type": "markdown",
   "metadata": {},
   "source": [
    "c) Prove that the MLE for $\\beta_1$ is $Cov[X,Y]/Var[X]$ by taking the derivative of _ii_ above, with respect to $\\beta_1$, setting the derivative to zero, and solving for $\\beta_1$. "
   ]
  },
  {
   "cell_type": "markdown",
   "metadata": {},
   "source": [
    "**Answer:**$\\frac{\\partial E(\\hat{Y}-(\\hat{\\beta_0} + \\hat{\\beta_1} X)^2)}{\\partial\\hat{\\beta_1}}=E[Y^2] -2 \\hat{\\beta_0}E[Y]-2 \\hat{\\beta_1} Cov[X,Y]-2 \\hat{\\beta_1} E[X]E[Y]+ \\hat{\\beta_0}^2 +2 \\hat{\\beta_0} \\hat{\\beta_1} E[X]+\\hat{\\beta_1}^2 Var[X]+ \\hat{\\beta_1}^2 (E[X])^2$<br>\n",
    "\n",
    "$\\frac{\\partial E(\\hat{Y}-(\\hat{\\beta_0} + \\hat{\\beta_1} X)^2)}{\\partial\\hat{\\beta_1}}=-2 \\hat{\\beta_1} Cov[X,Y]-2 \\hat{\\beta_1} E[X]E[Y]+2\\hat{\\beta_1} E[X]+2\\hat{\\beta_1} Var[X]+ 2\\hat{\\beta_1} (E[X])^2$<br>\n",
    "\n",
    "$\\frac{\\partial E(\\hat{Y}-(\\hat{\\beta_0} + \\hat{\\beta_1} X)^2)}{\\partial\\hat{\\beta_1}}=-2 \\hat{\\beta_1} (Cov[X,Y]+E[Y] E[X]- Var[X]- (E[X])^2$)<br>\n",
    "\n",
    "$\\frac{\\partial E(\\hat{Y}-(\\hat{\\beta_0} + \\hat{\\beta_1} X)^2)}{\\partial\\hat{\\beta_1}}=Cov[X,Y]- E[X]E[Y]-E[X]- Var[X]- (E[X])^2$<br>\n",
    "\n",
    "$\\frac{\\partial E(\\hat{Y}-(\\hat{\\beta_0} + \\hat{\\beta_1} X)^2)}{\\partial\\hat{\\beta_1}}=Cov[X,Y]- Var[X]$<br>\n",
    "\n",
    "$\\frac{\\partial E(\\hat{Y}-(\\hat{\\beta_0} + \\hat{\\beta_1} X)^2)}{\\partial\\hat{\\beta_1}}=\\frac{Cov[X,Y]}{Var[X]}$<br>"
   ]
  },
  {
   "cell_type": "markdown",
   "metadata": {},
   "source": [
    "---\n",
    "\n",
    "2. Using the MLE solutions shown in 1(b) and 1(c) above, show how, in the case of simple linear regression, the least squares line always passes through the point $(E(X), E(Y))$ or $(x,y)$). What does this imply about the leverage that the response and predictor variable means have on the ordinary least squares solution?"
   ]
  },
  {
   "cell_type": "markdown",
   "metadata": {},
   "source": [
    "**Answer:**<br>\n",
    "$Y=\\beta_0+\\beta_1X$<br>\n",
    "subbing in values from above:<br><br>\n",
    "$E[Y]=E[Y] -\\beta_1+\\frac{Cov[X,Y]}{Var[X]} E[X]$<br><br>\n",
    "$E[Y]=E[Y] -\\frac{Cov[X,Y]}{Var[X]}E[X]+\\frac{Cov[X,Y]}{Var[X]} E[X]$<br><br>\n",
    "$E[Y]=E[Y]$ <br><br>\n",
    "Assuming leverage here means influence, the means of X and Y mainly affect the OLS solution via the beta coefficients.  "
   ]
  },
  {
   "cell_type": "markdown",
   "metadata": {},
   "source": [
    "---\n",
    "3. In the case where X and Y are standard normal variables (i.e. $N(0,1)$), show that the ordinary least squares solution converges to the same solution as the Pearson correlation coefficient $r=Cov[X,Y]/(\\sigma_X * \\sigma_Y)$. What exactly do they both converge to?\n"
   ]
  },
  {
   "cell_type": "markdown",
   "metadata": {},
   "source": [
    "**Answer:**<br>\n",
    "$r=Cov[X,Y]/(\\sigma_X*\\sigma_Y)$<br>\n",
    "subbing in the SD's from our normal variables X, Y we end up with:<br>\n",
    "$r=Cov[X,Y]$<br>\n",
    "<br>\n",
    "next, we can take our OLS solution:<br>\n",
    "$E[Y]=\\beta_0+\\beta_1 E[X]$<br>\n",
    "remove the $\\beta_0$ term as it equals 1<br>\n",
    "$E[Y]=\\beta_1 E[X]$<br>\n",
    "sub in our value for $\\beta_1$<br>\n",
    "$E[Y]=\\frac{Cov[X,Y]}{Var[X]} E[X]$<br>\n",
    "From here, we know $Var[X]$ is 1 as $\\sigma_X=1$<br>\n",
    "$E[Y]=Cov[X,Y]E[X]$<br>\n",
    "Voila!"
   ]
  },
  {
   "cell_type": "markdown",
   "metadata": {},
   "source": [
    "---\n",
    "\n",
    "4. Three methods for evaluating a regression model’s performance are $r^2$, $RSE$, and the $F$ Test. Show the functional form of each method and describe conceptually what it is telling you about your model."
   ]
  },
  {
   "cell_type": "markdown",
   "metadata": {},
   "source": [
    "**Answer:**<br>\n",
    "$RSE=\\sqrt{\\frac{\\sum_{i=1}^{n}(y-\\hat{y})^2}{n-2}}$<br>\n",
    "Residual Square Error (RSE) is a simple estimate of variance derived from residual error. It can be thought of as an estimate of the standard error of the error term in our model.\n",
    "\n",
    "$r^2=1-\\frac{\\sum_{i=1}^{n}(y_i-\\hat{y_i})^2}{\\sum_{i=1}^{n}(y_i-\\bar{y})^2}$<br>\n",
    "r-squared is the ratio (percentage) of variance explained by the model to variance of the actual data. In other words, it explains how well our observations Y are accounted for by our samples X.\n",
    "\n",
    "$F=\\frac{\\frac{\\sum_{i=1}^{n}(y_i-\\bar{y^2})-(y_i-\\hat{y^2_i})}{p}}\n",
    "{\\frac{{\\sum_{i=1}^{n}(y_i-\\hat{y^2_i})}}{{n-p-1}}}$\n",
    "\n",
    "The F-statistic tells us the proportion of the variance NOT explained by our model (TSS) relative to the variance that is explained by our model. (RSS)"
   ]
  },
  {
   "cell_type": "markdown",
   "metadata": {},
   "source": [
    "---\n",
    "5. Suppose that we have a dataset with five predictors, $X_1 = GPA$, $X_2 = IQ$, $X_3 = Gender$ (1 for Female and 0 for Male), $X_4$ = Interaction between GPA and IQ, and $X_5$ = Interaction between GPA and Gender. The response variable ($Y$) is starting salary after graduation (in thousands of dollars). Suppose we use least squares to fit the model, and get $\\hat{\\beta_0}$ =50, $\\hat{\\beta_1}$ =20, $\\hat{\\beta_2}$ =0.07, $\\hat{\\beta_3}$ =35, $\\hat{\\beta_4}$ =0.01, $\\hat{\\beta_5}$ =-10.\n"
   ]
  },
  {
   "cell_type": "markdown",
   "metadata": {},
   "source": [
    "a) Which answer is correct, and why?\n",
    "\n",
    "i. For a fixed value of IQ and GPA, males earn more on average than females.\n",
    "\n",
    "ii. For a fixed value of IQ and GPA, females earn more on average than males.\n",
    "\n",
    "iii. For a fixed value of IQ and GPA, males earn more on average than females provided that the GPA is high enough.\n",
    "\n",
    "iv. For a fixed value of IQ and GPA, females earn more on average than males provided that the GPA is high enough.\n"
   ]
  },
  {
   "cell_type": "markdown",
   "metadata": {},
   "source": [
    "**Answer:** <br> i. For a fixed value of IQ and GPA, males earn more on average than females."
   ]
  },
  {
   "cell_type": "markdown",
   "metadata": {},
   "source": [
    "(b) Predict the salary of a female graduate with IQ of 110 and a GPA of 4.0."
   ]
  },
  {
   "cell_type": "markdown",
   "metadata": {},
   "source": [
    "**Answer:** <br>137.1"
   ]
  },
  {
   "cell_type": "markdown",
   "metadata": {},
   "source": [
    "(c) True or false: Since the coefficient for the GPA/IQ interaction term is very small, there is very little evidence of an interaction effect. Justify your answer."
   ]
  },
  {
   "cell_type": "markdown",
   "metadata": {},
   "source": [
    "**Answer:** <br> Heck no! The Beta coefficient is describing how a unit increase in X changes Y. A small beta could easy describe a large effect, especially if the values of the predictor varaibles are in much larger units than the response variables. "
   ]
  },
  {
   "cell_type": "markdown",
   "metadata": {},
   "source": [
    "---\n",
    "6. What are high leverage observations? How do they impact your model fits? What assumption of linear regression do they violate?"
   ]
  },
  {
   "cell_type": "markdown",
   "metadata": {},
   "source": [
    "**Answer:** <br>\n",
    "High leverage observations are essentially outliers in on the X domain (highly unusual values of X). These will impact the estimated regression line of the model.They are violations of the assumption of linearity."
   ]
  },
  {
   "cell_type": "markdown",
   "metadata": {},
   "source": [
    "---\n",
    "7. A linear mixed effect model has the form $Y = X\\beta + Z\\upsilon + \\epsilon$. "
   ]
  },
  {
   "cell_type": "markdown",
   "metadata": {},
   "source": [
    "a) What are the assumptions about $Z$ and $\\upsilon$ that make this different from using a regular control variable in a simple linear regression model?\n"
   ]
  },
  {
   "cell_type": "markdown",
   "metadata": {},
   "source": [
    "**Answer:**<br>\n",
    "$Z$'s influence on $\\beta$ is NOT a simple linear effect. Rather, $Z$'s effect on $\\beta$ is random. As such, the effect of the slope coefficients' variance on $\\upsilon$ is different. $\\upsilon = N(0,\\Sigma_{\\theta})$"
   ]
  },
  {
   "cell_type": "markdown",
   "metadata": {},
   "source": [
    "b) What is the objective function for this model (i.e., the function that needs to be minimized to find the optimal parameters) and how is it different than the objective function for the ordinary least squares model?"
   ]
  },
  {
   "cell_type": "markdown",
   "metadata": {},
   "source": [
    "**Answer:** <br>\n",
    "$min(||Y-X\\beta + Z\\Lambda_{theta}\\upsilon|| + ||\\upsilon||)$\n",
    "\n",
    "Unlike OLS models, new terms need to be added:\n",
    "\n",
    "Here $||\\upsilon||$ is a regularizing, or penalizing term, included to prevent the random effects from adding variance to the fixed effects. If $Z$ is small then this won't occur, and the penalizing term is ensuring the $Z$ stays small.\n",
    "\n",
    "Additionally, if our random effects truly are real, an independent covariance matrix needs to be added to describe our random effects term. Here, this is represented by $\\Lambda_{theta}$."
   ]
  },
  {
   "cell_type": "markdown",
   "metadata": {},
   "source": [
    "c) What advantage does including a random effects term in your model give you with regards to understanding the fixed effects relationship?"
   ]
  },
  {
   "cell_type": "markdown",
   "metadata": {},
   "source": [
    "**Answer:**<br>\n",
    "Including a random effects term is a way of controlling a source of variability effecting the estimation of fixed effects."
   ]
  },
  {
   "cell_type": "markdown",
   "metadata": {},
   "source": [
    "---\n",
    "\n",
    "### **Applied:** Show your code & plots\n",
    "\n",
    "(Include conceptual answers to questions as comments in code cells)"
   ]
  },
  {
   "cell_type": "markdown",
   "metadata": {},
   "source": [
    "---\n",
    "8. Load the cbpp dataset from the lme4 library. Run ?cbpp after loading the lme4 library to get information on the dataset.\n",
    "\n",
    "(a) Plot the relationship between herd size and CBPP incidence\n",
    "\n",
    "(b) Use the lm function to model the effect of herd size (predictor) on CBPP incidence (response). How does herd size impact disease rate? Report the results of the model.\n",
    "\n",
    "(c) Use the lmer function to include the herd identifier as a random effect. How does this impact the fixed effect of herd size on CBPP incidence?\n",
    "\n",
    "(d) Compare the simple linear model (i.e., the fixed effects only model) with the mixed effect model using AIC (https://en.wikipedia.org/wiki/Akaike_information_criterion). Does adding the random effect to the model improve or change the fixed effect?\n"
   ]
  },
  {
   "cell_type": "code",
   "execution_count": 29,
   "metadata": {},
   "outputs": [
    {
     "name": "stderr",
     "output_type": "stream",
     "text": [
      "Warning message:\n",
      "\"package 'lme4' was built under R version 3.5.2\"Loading required package: Matrix\n",
      "Warning message:\n",
      "\"package 'ggplot2' was built under R version 3.5.2\""
     ]
    },
    {
     "data": {
      "image/png": "[encoded data removed]",
      "text/plain": [
       "plot without title"
      ]
     },
     "metadata": {},
     "output_type": "display_data"
    }
   ],
   "source": [
    "# -------------------------------\n",
    "# Question 8\n",
    "# -------------------------------\n",
    "\n",
    "library(lme4)\n",
    "library(ggplot2)\n",
    "#cbpp$herd\n",
    "#cbpp$incidence\n",
    "#cbpp$size\n",
    "#cbpp$period\n",
    "\n",
    "#(8a) Plot the relationship between herd size and CBPP incidence)\n",
    "size_herd_plot=ggplot(cbpp, aes(x=size, y=incidence))+geom_point(size=5)\n",
    "print(size_herd_plot)\n"
   ]
  },
  {
   "cell_type": "code",
   "execution_count": 30,
   "metadata": {},
   "outputs": [
    {
     "data": {
      "text/plain": [
       "\n",
       "Call:\n",
       "lm(formula = incidence ~ size, data = cbpp)\n",
       "\n",
       "Residuals:\n",
       "    Min      1Q  Median      3Q     Max \n",
       "-3.1456 -1.5925 -0.4864  0.8006  8.6840 \n",
       "\n",
       "Coefficients:\n",
       "            Estimate Std. Error t value Pr(>|t|)   \n",
       "(Intercept) -0.31106    0.73554  -0.423  0.67405   \n",
       "size         0.13827    0.04389   3.150  0.00266 **\n",
       "---\n",
       "Signif. codes:  0 '***' 0.001 '**' 0.01 '*' 0.05 '.' 0.1 ' ' 1\n",
       "\n",
       "Residual standard error: 2.432 on 54 degrees of freedom\n",
       "Multiple R-squared:  0.1553,\tAdjusted R-squared:  0.1396 \n",
       "F-statistic: 9.926 on 1 and 54 DF,  p-value: 0.002657\n"
      ]
     },
     "metadata": {},
     "output_type": "display_data"
    }
   ],
   "source": [
    "\n",
    "#(8b) Use the lm function to model the effect of herd size (predictor) on CBPP incidence (response). \n",
    "# How does herd size impact disease rate? Report the results of the model.\n",
    "\n",
    "sh_model.fit=lm(incidence ~ size,data=cbpp)\n",
    "summary(sh_model.fit)"
   ]
  },
  {
   "cell_type": "code",
   "execution_count": 31,
   "metadata": {},
   "outputs": [
    {
     "name": "stderr",
     "output_type": "stream",
     "text": [
      "singular fit\n"
     ]
    },
    {
     "data": {
      "text/plain": [
       "Linear mixed model fit by REML ['lmerMod']\n",
       "Formula: incidence ~ size + (size | herd)\n",
       "   Data: cbpp\n",
       "\n",
       "REML criterion at convergence: 240.3\n",
       "\n",
       "Scaled residuals: \n",
       "    Min      1Q  Median      3Q     Max \n",
       "-1.7937 -0.5979 -0.1649  0.4924  2.5174 \n",
       "\n",
       "Random effects:\n",
       " Groups   Name        Variance Std.Dev. Corr \n",
       " herd     (Intercept) 0.54020  0.7350        \n",
       "          size        0.03311  0.1819   -1.00\n",
       " Residual             2.43192  1.5595        \n",
       "Number of obs: 56, groups:  herd, 15\n",
       "\n",
       "Fixed effects:\n",
       "            Estimate Std. Error t value\n",
       "(Intercept) -0.54175    0.63638  -0.851\n",
       "size         0.19644    0.06483   3.030\n",
       "\n",
       "Correlation of Fixed Effects:\n",
       "     (Intr)\n",
       "size -0.822\n",
       "convergence code: 0\n",
       "singular fit\n"
      ]
     },
     "metadata": {},
     "output_type": "display_data"
    }
   ],
   "source": [
    "#(8c)Use the lmer function to include the herd identifier as a random effect.\n",
    "#How does this impact the fixed effect of herd size on CBPP incidence?\n",
    "shi_model.fit=lmer(incidence ~ size + (size|herd), data=cbpp)\n",
    "summary(shi_model.fit)"
   ]
  },
  {
   "cell_type": "code",
   "execution_count": 32,
   "metadata": {},
   "outputs": [
    {
     "name": "stdout",
     "output_type": "stream",
     "text": [
      "[1] -10.10405\n"
     ]
    },
    {
     "data": {
      "text/html": [
       "'yes, addingg the random effect definetly improves the fixed effect as the mixed AIC is lower'"
      ],
      "text/latex": [
       "'yes, addingg the random effect definetly improves the fixed effect as the mixed AIC is lower'"
      ],
      "text/markdown": [
       "'yes, addingg the random effect definetly improves the fixed effect as the mixed AIC is lower'"
      ],
      "text/plain": [
       "[1] \"yes, addingg the random effect definetly improves the fixed effect as the mixed AIC is lower\""
      ]
     },
     "metadata": {},
     "output_type": "display_data"
    }
   ],
   "source": [
    "#(8d) Compare the simple linear model (i.e., the fixed effects only model) with the mixed effect model using AIC (https://en.wikipedia.org/wiki/Akaike_information_criterion). \n",
    "#Does adding the random effect to the model improve or change the fixed effect?\n",
    "mixedAIC=AIC(shi_model.fit)\n",
    "simpleAIC=AIC(sh_model.fit)\n",
    "\n",
    "print(mixedAIC-simpleAIC)\n",
    "\"yes, addingg the random effect definetly improves the fixed effect as the mixed AIC is lower\""
   ]
  },
  {
   "cell_type": "markdown",
   "metadata": {},
   "source": [
    "---\n",
    "\n",
    "\n",
    "9. This question involves the use of multiple linear regression on the _Auto_ data set. (From ISLR Chapter 3, Exercise #9)\n",
    "\n",
    "(a) Produce a scatterplot matrix which includes all of the variables in the data set.\n",
    "\n",
    "(b) Compute the matrix of correlations between the variables using the function _cor()_. You will need to exclude the name variable, which is qualitative.\n",
    "\n",
    "(c) Use the _lm()_ function to perform a multiple linear regression with mpg as the response and all other variables except name as the predictors. Use the _summary()_ function to print the results. Comment on the output. For instance:\n",
    "\n",
    "i. Is there a relationship between the predictors and the response?\n",
    "\n",
    "ii. Which predictors appear to have a statistically significant relationship to the response?\n",
    "\n",
    "iii. What does the coefficient for the year variable suggest?\n",
    "\n",
    "(d) Use the _plot()_ function to produce diagnostic plots of the linear regression fit. Comment on any problems you see with the fit. Do the residual plots suggest any unusually large outliers? Does the leverage plot identify any observations with unusually high leverage?\n",
    "\n",
    "(e) Use the _*_ and _:_ symbols to fit linear regression models with interaction effects. Do any interactions appear to be statistically significant?\n",
    "\n",
    "(f) Try a few different transformations of the variables, such as log(X), √X, X2. Comment on your findings."
   ]
  },
  {
   "cell_type": "code",
   "execution_count": 33,
   "metadata": {},
   "outputs": [
    {
     "data": {
      "image/png": "[encoded data removed]",
      "text/plain": [
       "plot without title"
      ]
     },
     "metadata": {},
     "output_type": "display_data"
    }
   ],
   "source": [
    "# -------------------------------\n",
    "# Question 9\n",
    "# -------------------------------\n",
    "\n",
    "library(ISLR)\n",
    "library(ggplot2)\n",
    "\n",
    "#(9a)\n",
    "pairs(Auto)\n"
   ]
  },
  {
   "cell_type": "code",
   "execution_count": 34,
   "metadata": {},
   "outputs": [
    {
     "name": "stdout",
     "output_type": "stream",
     "text": [
      "    cylinders\n",
      "mpg -10.35293\n",
      "    displacement\n",
      "mpg    -657.5852\n",
      "    horsepower\n",
      "mpg  -233.8579\n",
      "       weight\n",
      "mpg -5517.441\n",
      "    acceleration\n",
      "mpg     9.115514\n",
      "        year\n",
      "mpg 16.69148\n",
      "     origin\n",
      "mpg 3.55351\n"
     ]
    }
   ],
   "source": [
    "#(9b)\n",
    "for (i in 2:(ncol(Auto)-1))\n",
    "    {\n",
    "    print(cov(Auto[1], Auto[i]))\n",
    "   }\n"
   ]
  },
  {
   "cell_type": "code",
   "execution_count": 35,
   "metadata": {},
   "outputs": [
    {
     "data": {
      "text/plain": [
       "\n",
       "Call:\n",
       "lm(formula = mpg ~ . - name, data = Auto)\n",
       "\n",
       "Residuals:\n",
       "    Min      1Q  Median      3Q     Max \n",
       "-9.5903 -2.1565 -0.1169  1.8690 13.0604 \n",
       "\n",
       "Coefficients:\n",
       "               Estimate Std. Error t value Pr(>|t|)    \n",
       "(Intercept)  -17.218435   4.644294  -3.707  0.00024 ***\n",
       "cylinders     -0.493376   0.323282  -1.526  0.12780    \n",
       "displacement   0.019896   0.007515   2.647  0.00844 ** \n",
       "horsepower    -0.016951   0.013787  -1.230  0.21963    \n",
       "weight        -0.006474   0.000652  -9.929  < 2e-16 ***\n",
       "acceleration   0.080576   0.098845   0.815  0.41548    \n",
       "year           0.750773   0.050973  14.729  < 2e-16 ***\n",
       "origin         1.426141   0.278136   5.127 4.67e-07 ***\n",
       "---\n",
       "Signif. codes:  0 '***' 0.001 '**' 0.01 '*' 0.05 '.' 0.1 ' ' 1\n",
       "\n",
       "Residual standard error: 3.328 on 384 degrees of freedom\n",
       "Multiple R-squared:  0.8215,\tAdjusted R-squared:  0.8182 \n",
       "F-statistic: 252.4 on 7 and 384 DF,  p-value: < 2.2e-16\n"
      ]
     },
     "metadata": {},
     "output_type": "display_data"
    },
    {
     "data": {
      "text/html": [
       "'There are definetly relation ships between the mpg of a car and the variables in this dataset. \\nHowever, only displacemnet, horespower, year and origin seem to affect it significiantly\\n(Highest p-value of all 5 is .00844). With regard to the Coefficient for year,\\nit appears that, for every one year increase in model year, there is an average \\n.75 increase in miles per gallon'"
      ],
      "text/latex": [
       "'There are definetly relation ships between the mpg of a car and the variables in this dataset. \\textbackslash{}nHowever, only displacemnet, horespower, year and origin seem to affect it significiantly\\textbackslash{}n(Highest p-value of all 5 is .00844). With regard to the Coefficient for year,\\textbackslash{}nit appears that, for every one year increase in model year, there is an average \\textbackslash{}n.75 increase in miles per gallon'"
      ],
      "text/markdown": [
       "'There are definetly relation ships between the mpg of a car and the variables in this dataset. \\nHowever, only displacemnet, horespower, year and origin seem to affect it significiantly\\n(Highest p-value of all 5 is .00844). With regard to the Coefficient for year,\\nit appears that, for every one year increase in model year, there is an average \\n.75 increase in miles per gallon'"
      ],
      "text/plain": [
       "[1] \"There are definetly relation ships between the mpg of a car and the variables in this dataset. \\nHowever, only displacemnet, horespower, year and origin seem to affect it significiantly\\n(Highest p-value of all 5 is .00844). With regard to the Coefficient for year,\\nit appears that, for every one year increase in model year, there is an average \\n.75 increase in miles per gallon\""
      ]
     },
     "metadata": {},
     "output_type": "display_data"
    }
   ],
   "source": [
    "#(9c)\n",
    "car.fit=lm(mpg ~ .-name, data=Auto)\n",
    "summary(car.fit)\n",
    "\"There are definetly relation ships between the mpg of a car and the variables in this dataset. \n",
    "However, only displacemnet, horespower, year and origin seem to affect it significiantly\n",
    "(Highest p-value of all 5 is .00844). With regard to the Coefficient for year,\n",
    "it appears that, for every one year increase in model year, there is an average \n",
    ".75 increase in miles per gallon\""
   ]
  },
  {
   "cell_type": "code",
   "execution_count": 36,
   "metadata": {},
   "outputs": [
    {
     "data": {
      "image/png": "[encoded data removed]",
      "text/plain": [
       "Plot with title \"\""
      ]
     },
     "metadata": {},
     "output_type": "display_data"
    },
    {
     "data": {
      "image/png": "[encoded data removed]",
      "text/plain": [
       "Plot with title \"\""
      ]
     },
     "metadata": {},
     "output_type": "display_data"
    },
    {
     "data": {
      "image/png": "[encoded data removed]",
      "text/plain": [
       "Plot with title \"\""
      ]
     },
     "metadata": {},
     "output_type": "display_data"
    },
    {
     "data": {
      "text/html": [
       "'In the QQ plot, there appears to be a violation of normality when residuals and observations are about 2 or higher'"
      ],
      "text/latex": [
       "'In the QQ plot, there appears to be a violation of normality when residuals and observations are about 2 or higher'"
      ],
      "text/markdown": [
       "'In the QQ plot, there appears to be a violation of normality when residuals and observations are about 2 or higher'"
      ],
      "text/plain": [
       "[1] \"In the QQ plot, there appears to be a violation of normality when residuals and observations are about 2 or higher\""
      ]
     },
     "metadata": {},
     "output_type": "display_data"
    },
    {
     "data": {
      "text/html": [
       "'The residual block appears warped as well. There appears to be some outliers (323,326,327)'"
      ],
      "text/latex": [
       "'The residual block appears warped as well. There appears to be some outliers (323,326,327)'"
      ],
      "text/markdown": [
       "'The residual block appears warped as well. There appears to be some outliers (323,326,327)'"
      ],
      "text/plain": [
       "[1] \"The residual block appears warped as well. There appears to be some outliers (323,326,327)\""
      ]
     },
     "metadata": {},
     "output_type": "display_data"
    },
    {
     "data": {
      "text/html": [
       "'The plot of leverage points shows a clearly influencial leverage point for case 14.'"
      ],
      "text/latex": [
       "'The plot of leverage points shows a clearly influencial leverage point for case 14.'"
      ],
      "text/markdown": [
       "'The plot of leverage points shows a clearly influencial leverage point for case 14.'"
      ],
      "text/plain": [
       "[1] \"The plot of leverage points shows a clearly influencial leverage point for case 14.\""
      ]
     },
     "metadata": {},
     "output_type": "display_data"
    },
    {
     "data": {
      "image/png": "[encoded data removed]",
      "text/plain": [
       "Plot with title \"\""
      ]
     },
     "metadata": {},
     "output_type": "display_data"
    }
   ],
   "source": [
    "#(9d)\n",
    "plot(car.fit)\n",
    "\"In the QQ plot, there appears to be a violation of normality when residuals and observations are about 2 or higher\"\n",
    "\"The residual block appears warped as well. There appears to be some outliers (323,326,327)\"\n",
    "\"The plot of leverage points shows a clearly influencial leverage point for case 14.\""
   ]
  },
  {
   "cell_type": "code",
   "execution_count": 37,
   "metadata": {},
   "outputs": [
    {
     "data": {
      "text/plain": [
       "\n",
       "Call:\n",
       "lm(formula = Auto$mpg ~ Auto$cylinders + Auto$horsepower + (Auto$cylinders:Auto$horsepower))\n",
       "\n",
       "Residuals:\n",
       "     Min       1Q   Median       3Q      Max \n",
       "-11.5862  -2.1945  -0.5617   1.9541  16.3329 \n",
       "\n",
       "Coefficients:\n",
       "                                Estimate Std. Error t value Pr(>|t|)    \n",
       "(Intercept)                    72.815097   3.071314  23.708   <2e-16 ***\n",
       "Auto$cylinders                 -6.492462   0.510560 -12.716   <2e-16 ***\n",
       "Auto$horsepower                -0.416007   0.034521 -12.051   <2e-16 ***\n",
       "Auto$cylinders:Auto$horsepower  0.047247   0.004732   9.984   <2e-16 ***\n",
       "---\n",
       "Signif. codes:  0 '***' 0.001 '**' 0.01 '*' 0.05 '.' 0.1 ' ' 1\n",
       "\n",
       "Residual standard error: 4.094 on 388 degrees of freedom\n",
       "Multiple R-squared:  0.727,\tAdjusted R-squared:  0.7249 \n",
       "F-statistic: 344.4 on 3 and 388 DF,  p-value: < 2.2e-16\n"
      ]
     },
     "metadata": {},
     "output_type": "display_data"
    },
    {
     "data": {
      "text/plain": [
       "\n",
       "Call:\n",
       "lm(formula = Auto$mpg ~ Auto$horsepower + Auto$weight + (Auto$horsepower:Auto$weight))\n",
       "\n",
       "Residuals:\n",
       "     Min       1Q   Median       3Q      Max \n",
       "-10.7725  -2.2074  -0.2708   1.9973  14.7314 \n",
       "\n",
       "Coefficients:\n",
       "                              Estimate Std. Error t value Pr(>|t|)    \n",
       "(Intercept)                  6.356e+01  2.343e+00  27.127  < 2e-16 ***\n",
       "Auto$horsepower             -2.508e-01  2.728e-02  -9.195  < 2e-16 ***\n",
       "Auto$weight                 -1.077e-02  7.738e-04 -13.921  < 2e-16 ***\n",
       "Auto$horsepower:Auto$weight  5.355e-05  6.649e-06   8.054 9.93e-15 ***\n",
       "---\n",
       "Signif. codes:  0 '***' 0.001 '**' 0.01 '*' 0.05 '.' 0.1 ' ' 1\n",
       "\n",
       "Residual standard error: 3.93 on 388 degrees of freedom\n",
       "Multiple R-squared:  0.7484,\tAdjusted R-squared:  0.7465 \n",
       "F-statistic: 384.8 on 3 and 388 DF,  p-value: < 2.2e-16\n"
      ]
     },
     "metadata": {},
     "output_type": "display_data"
    },
    {
     "data": {
      "text/html": [
       "'Interestingly, horsepower shows a highly significant interaction effect with both weight and cylinders\\nas the p-values on their significance is extremely small (cylnder p&lt;2e-16; weight p=9.93e-15).'"
      ],
      "text/latex": [
       "'Interestingly, horsepower shows a highly significant interaction effect with both weight and cylinders\\textbackslash{}nas the p-values on their significance is extremely small (cylnder p<2e-16; weight p=9.93e-15).'"
      ],
      "text/markdown": [
       "'Interestingly, horsepower shows a highly significant interaction effect with both weight and cylinders\\nas the p-values on their significance is extremely small (cylnder p&lt;2e-16; weight p=9.93e-15).'"
      ],
      "text/plain": [
       "[1] \"Interestingly, horsepower shows a highly significant interaction effect with both weight and cylinders\\nas the p-values on their significance is extremely small (cylnder p<2e-16; weight p=9.93e-15).\""
      ]
     },
     "metadata": {},
     "output_type": "display_data"
    }
   ],
   "source": [
    "#(9e)\n",
    "car.fit=lm(Auto$mpg ~ Auto$cylinders+Auto$horsepower+(Auto$cylinders:Auto$horsepower))\n",
    "summary(car.fit)\n",
    "car.fit=lm(Auto$mpg ~ Auto$horsepower+Auto$weight+(Auto$horsepower:Auto$weight))\n",
    "summary(car.fit)\n",
    "\n",
    "\"Interestingly, horsepower shows a highly significant interaction effect with both weight and cylinders\n",
    "as the p-values on their significance is extremely small (cylnder p<2e-16; weight p=9.93e-15).\""
   ]
  },
  {
   "cell_type": "code",
   "execution_count": 38,
   "metadata": {},
   "outputs": [
    {
     "data": {
      "text/plain": [
       "\n",
       "Call:\n",
       "lm(formula = Auto$mpg ~ log_displacement + sqrt_horsepower)\n",
       "\n",
       "Residuals:\n",
       "     Min       1Q   Median       3Q      Max \n",
       "-14.0107  -2.5841  -0.4108   2.0452  17.4288 \n",
       "\n",
       "Coefficients:\n",
       "                 Estimate Std. Error t value Pr(>|t|)    \n",
       "(Intercept)      74.45261    3.08888  24.103  < 2e-16 ***\n",
       "log_displacement -8.86789    0.77733 -11.408  < 2e-16 ***\n",
       "sqrt_horsepower  -0.05296    0.01076  -4.923 1.26e-06 ***\n",
       "---\n",
       "Signif. codes:  0 '***' 0.001 '**' 0.01 '*' 0.05 '.' 0.1 ' ' 1\n",
       "\n",
       "Residual standard error: 4.252 on 389 degrees of freedom\n",
       "Multiple R-squared:  0.7047,\tAdjusted R-squared:  0.7032 \n",
       "F-statistic: 464.2 on 2 and 389 DF,  p-value: < 2.2e-16\n"
      ]
     },
     "metadata": {},
     "output_type": "display_data"
    },
    {
     "data": {
      "text/html": [
       "'While displacement was previously found to have a positive coefficient value and a somewhat\\nsignificant p-value (.008), now the coefficient is much larger and negative.\\nAs for horsepower, its beta coefficient did not change by much,\\nbut it is now much more significant than it was previously.'"
      ],
      "text/latex": [
       "'While displacement was previously found to have a positive coefficient value and a somewhat\\textbackslash{}nsignificant p-value (.008), now the coefficient is much larger and negative.\\textbackslash{}nAs for horsepower, its beta coefficient did not change by much,\\textbackslash{}nbut it is now much more significant than it was previously.'"
      ],
      "text/markdown": [
       "'While displacement was previously found to have a positive coefficient value and a somewhat\\nsignificant p-value (.008), now the coefficient is much larger and negative.\\nAs for horsepower, its beta coefficient did not change by much,\\nbut it is now much more significant than it was previously.'"
      ],
      "text/plain": [
       "[1] \"While displacement was previously found to have a positive coefficient value and a somewhat\\nsignificant p-value (.008), now the coefficient is much larger and negative.\\nAs for horsepower, its beta coefficient did not change by much,\\nbut it is now much more significant than it was previously.\""
      ]
     },
     "metadata": {},
     "output_type": "display_data"
    }
   ],
   "source": [
    "#(9f) - double check this is correct\n",
    "log_displacement<-log(Auto$displacement)\n",
    "sqrt_horsepower<-Auto$horsepower\n",
    "\n",
    "car.fit=lm(Auto$mpg ~ log_displacement + sqrt_horsepower)\n",
    "summary(car.fit)\n",
    "\n",
    "\"While displacement was previously found to have a positive coefficient value and a somewhat\n",
    "significant p-value (.008), now the coefficient is much larger and negative.\n",
    "As for horsepower, its beta coefficient did not change by much,\n",
    "but it is now much more significant than it was previously.\""
   ]
  },
  {
   "cell_type": "markdown",
   "metadata": {},
   "source": [
    "---\n",
    "\n",
    "10. This question should be answered using the _Carseats_ data set. (From ISLR Chapter 3, Exercise #10)\n",
    "\n",
    "(a) Fit a multiple regression model to predict Sales using Price,\n",
    "Urban, and US.\n",
    "\n",
    "(b) Provide an interpretation of each coefficient in the model. Be\n",
    "careful—some of the variables in the model are qualitative!\n",
    "\n",
    "(c) Write out the model in equation form, being careful to handle the qualitative variables properly.\n",
    "\n",
    "(d) For which of the predictors can you reject the null hypothesis $H_0 : \\beta_j = 0$?\n",
    "\n",
    "(e) On the basis of your response to the previous question, fit a smaller model that only uses the predictors for which there is evidence of association with the outcome.\n",
    "\n",
    "(f) How well do the models in (a) and (e) fit the data?\n",
    "\n",
    "(g) Using the model from (e), obtain 95% confidence intervals for the coefficient(s).\n",
    "\n",
    "(h) Is there evidence of outliers or high leverage observations in the model from (e)?"
   ]
  },
  {
   "cell_type": "code",
   "execution_count": 39,
   "metadata": {},
   "outputs": [
    {
     "data": {
      "text/plain": [
       "\n",
       "Call:\n",
       "lm(formula = cs$Sales ~ cs$Price + cs$Urban + cs$US)\n",
       "\n",
       "Residuals:\n",
       "    Min      1Q  Median      3Q     Max \n",
       "-6.9206 -1.6220 -0.0564  1.5786  7.0581 \n",
       "\n",
       "Coefficients:\n",
       "             Estimate Std. Error t value Pr(>|t|)    \n",
       "(Intercept) 13.043469   0.651012  20.036  < 2e-16 ***\n",
       "cs$Price    -0.054459   0.005242 -10.389  < 2e-16 ***\n",
       "cs$UrbanYes -0.021916   0.271650  -0.081    0.936    \n",
       "cs$USYes     1.200573   0.259042   4.635 4.86e-06 ***\n",
       "---\n",
       "Signif. codes:  0 '***' 0.001 '**' 0.01 '*' 0.05 '.' 0.1 ' ' 1\n",
       "\n",
       "Residual standard error: 2.472 on 396 degrees of freedom\n",
       "Multiple R-squared:  0.2393,\tAdjusted R-squared:  0.2335 \n",
       "F-statistic: 41.52 on 3 and 396 DF,  p-value: < 2.2e-16\n"
      ]
     },
     "metadata": {},
     "output_type": "display_data"
    },
    {
     "data": {
      "text/html": [
       "'There is on average a .054459 decrease in sales with each unit increase in price'"
      ],
      "text/latex": [
       "'There is on average a .054459 decrease in sales with each unit increase in price'"
      ],
      "text/markdown": [
       "'There is on average a .054459 decrease in sales with each unit increase in price'"
      ],
      "text/plain": [
       "[1] \"There is on average a .054459 decrease in sales with each unit increase in price\""
      ]
     },
     "metadata": {},
     "output_type": "display_data"
    },
    {
     "data": {
      "text/html": [
       "'Urban sells on average .021916 less than non-Urban'"
      ],
      "text/latex": [
       "'Urban sells on average .021916 less than non-Urban'"
      ],
      "text/markdown": [
       "'Urban sells on average .021916 less than non-Urban'"
      ],
      "text/plain": [
       "[1] \"Urban sells on average .021916 less than non-Urban\""
      ]
     },
     "metadata": {},
     "output_type": "display_data"
    },
    {
     "data": {
      "text/html": [
       "'US Sales are on average 1.200573 sales greater than non-US'"
      ],
      "text/latex": [
       "'US Sales are on average 1.200573 sales greater than non-US'"
      ],
      "text/markdown": [
       "'US Sales are on average 1.200573 sales greater than non-US'"
      ],
      "text/plain": [
       "[1] \"US Sales are on average 1.200573 sales greater than non-US\""
      ]
     },
     "metadata": {},
     "output_type": "display_data"
    }
   ],
   "source": [
    "# -------------------------------\n",
    "# Question 10\n",
    "# -------------------------------\n",
    "\n",
    "cs<-Carseats\n",
    "#(a)\n",
    "lm.fit=lm(cs$Sales ~ cs$Price + cs$Urban + cs$US)\n",
    "summary(lm.fit)\n",
    "coeffic=coef(lm.fit)\n",
    "#(b)\n",
    "\"There is on average a .054459 decrease in sales with each unit increase in price\"\n",
    "\"Urban sells on average .021916 less than non-Urban\"\n",
    "\"US Sales are on average 1.200573 sales greater than non-US\""
   ]
  },
  {
   "cell_type": "markdown",
   "metadata": {},
   "source": [
    "(10c) Write out the model in equation form, being careful to handle the qualitative variables properly.\n",
    "$Y=\\beta_0+\\beta_{Price}X_{Price}+\\beta_{UrbanYes}X_{UrbanYes}+\\beta_{USYes}X_{USYes}$"
   ]
  },
  {
   "cell_type": "markdown",
   "metadata": {},
   "source": [
    "(10d) For which of the predictors can you reject the null hypothesis $H_0 : \\beta_j = 0$?<br>\n",
    "The only $\\beta$ where $H_0:\\beta_j =0$ is $\\beta_{UrbanYes}$ whose p-value is .936"
   ]
  },
  {
   "cell_type": "code",
   "execution_count": 40,
   "metadata": {},
   "outputs": [
    {
     "data": {
      "text/plain": [
       "\n",
       "Call:\n",
       "lm(formula = cs$Sales ~ cs$Price + cs$US)\n",
       "\n",
       "Residuals:\n",
       "    Min      1Q  Median      3Q     Max \n",
       "-6.9269 -1.6286 -0.0574  1.5766  7.0515 \n",
       "\n",
       "Coefficients:\n",
       "            Estimate Std. Error t value Pr(>|t|)    \n",
       "(Intercept) 13.03079    0.63098  20.652  < 2e-16 ***\n",
       "cs$Price    -0.05448    0.00523 -10.416  < 2e-16 ***\n",
       "cs$USYes     1.19964    0.25846   4.641 4.71e-06 ***\n",
       "---\n",
       "Signif. codes:  0 '***' 0.001 '**' 0.01 '*' 0.05 '.' 0.1 ' ' 1\n",
       "\n",
       "Residual standard error: 2.469 on 397 degrees of freedom\n",
       "Multiple R-squared:  0.2393,\tAdjusted R-squared:  0.2354 \n",
       "F-statistic: 62.43 on 2 and 397 DF,  p-value: < 2.2e-16\n"
      ]
     },
     "metadata": {},
     "output_type": "display_data"
    }
   ],
   "source": [
    "#(10e) On the basis of your response to the previous question, fit a smaller model that only uses the predictors for which there is evidence of association with the outcome.\n",
    "lm.fit.bttr=lm(cs$Sales ~ cs$Price + cs$US)\n",
    "summary(lm.fit.bttr)\n"
   ]
  },
  {
   "cell_type": "code",
   "execution_count": 41,
   "metadata": {},
   "outputs": [
    {
     "data": {
      "text/html": [
       "'Model A:'"
      ],
      "text/latex": [
       "'Model A:'"
      ],
      "text/markdown": [
       "'Model A:'"
      ],
      "text/plain": [
       "[1] \"Model A:\""
      ]
     },
     "metadata": {},
     "output_type": "display_data"
    },
    {
     "data": {
      "text/html": [
       "0.239275392184055"
      ],
      "text/latex": [
       "0.239275392184055"
      ],
      "text/markdown": [
       "0.239275392184055"
      ],
      "text/plain": [
       "[1] 0.2392754"
      ]
     },
     "metadata": {},
     "output_type": "display_data"
    },
    {
     "data": {
      "text/html": [
       "'Model E:'"
      ],
      "text/latex": [
       "'Model E:'"
      ],
      "text/markdown": [
       "'Model E:'"
      ],
      "text/plain": [
       "[1] \"Model E:\""
      ]
     },
     "metadata": {},
     "output_type": "display_data"
    },
    {
     "data": {
      "text/html": [
       "0.239262888426786"
      ],
      "text/latex": [
       "0.239262888426786"
      ],
      "text/markdown": [
       "0.239262888426786"
      ],
      "text/plain": [
       "[1] 0.2392629"
      ]
     },
     "metadata": {},
     "output_type": "display_data"
    }
   ],
   "source": [
    "#(10f) How well do the models in (a) and (e) fit the data?\n",
    "\"Model A:\"\n",
    "summary(lm.fit)$r.squared\n",
    "\"Model E:\"\n",
    "summary(lm.fit.bttr)$r.squared"
   ]
  },
  {
   "cell_type": "code",
   "execution_count": 42,
   "metadata": {},
   "outputs": [
    {
     "name": "stdout",
     "output_type": "stream",
     "text": [
      "                  2.5 %      97.5 %\n",
      "(Intercept) 11.79032020 14.27126531\n",
      "cs$Price    -0.06475984 -0.04419543\n",
      "cs$USYes     0.69151957  1.70776632\n",
      "                  2.5 %      97.5 %\n",
      "(Intercept) 11.79032020 14.27126531\n",
      "cs$Price    -0.06475984 -0.04419543\n",
      "cs$USYes     0.69151957  1.70776632\n",
      "                  2.5 %      97.5 %\n",
      "(Intercept) 11.79032020 14.27126531\n",
      "cs$Price    -0.06475984 -0.04419543\n",
      "cs$USYes     0.69151957  1.70776632\n"
     ]
    }
   ],
   "source": [
    "#(10g) Using the model from (e), obtain 95% confidence intervals for the coefficient(s).\n",
    "#make this look better\n",
    "stde<-coef(summary(lm.fit.bttr))[,\"Std. Error\"]\n",
    "for (i in 1:3){\n",
    "print(confint(lm.fit.bttr,level=.95))\n",
    "}"
   ]
  },
  {
   "cell_type": "code",
   "execution_count": 43,
   "metadata": {},
   "outputs": [
    {
     "data": {
      "image/png": "[encoded data removed]",
      "text/plain": [
       "plot without title"
      ]
     },
     "metadata": {},
     "output_type": "display_data"
    },
    {
     "data": {
      "text/html": [
       "'While the residual plot does not seem to indicate that there are any outliers in our observations,\\nThe hatvalues function, which projects all of the x values, does show a very clear leverage point,\\nas well as a few other values which could violate the linearity assumption'"
      ],
      "text/latex": [
       "'While the residual plot does not seem to indicate that there are any outliers in our observations,\\textbackslash{}nThe hatvalues function, which projects all of the x values, does show a very clear leverage point,\\textbackslash{}nas well as a few other values which could violate the linearity assumption'"
      ],
      "text/markdown": [
       "'While the residual plot does not seem to indicate that there are any outliers in our observations,\\nThe hatvalues function, which projects all of the x values, does show a very clear leverage point,\\nas well as a few other values which could violate the linearity assumption'"
      ],
      "text/plain": [
       "[1] \"While the residual plot does not seem to indicate that there are any outliers in our observations,\\nThe hatvalues function, which projects all of the x values, does show a very clear leverage point,\\nas well as a few other values which could violate the linearity assumption\""
      ]
     },
     "metadata": {},
     "output_type": "display_data"
    },
    {
     "data": {
      "image/png": "[encoded data removed]",
      "text/plain": [
       "plot without title"
      ]
     },
     "metadata": {},
     "output_type": "display_data"
    }
   ],
   "source": [
    "#(10h) Is there evidence of outliers or high leverage observations in the model from (e)?\n",
    "#hatvalues() -> leverage of x, outliers(), plot()\n",
    "plot(hatvalues(lm.fit.bttr))\n",
    "plot(resid(lm.fit.bttr))\n",
    "\n",
    "\"While the residual plot does not seem to indicate that there are any outliers in our observations,\n",
    "The hatvalues function, which projects all of the x values, does show a very clear leverage point,\n",
    "as well as a few other values which could violate the linearity assumption\""
   ]
  },
  {
   "cell_type": "markdown",
   "metadata": {},
   "source": [
    "---\n",
    "\n",
    "11. In this exercise you will create some simulated data and will fit simple linear regression models to it. Make sure to use _set.seed(1)_ prior to starting part (a) to ensure consistent results. (From ISLR Chapter 3, Exercise #13)\n",
    "\n",
    "(a) Using the _rnorm()_ function, create a vector, $x$, containing 100 observations drawn from a N(0,1) distribution. This represents a feature, $X$.\n",
    "\n",
    "(b) Using the _rnorm()_ function, create a vector, eps, containing 100 observations drawn from a N(0,0.25) distribution i.e. a normal distribution with mean zero and variance 0.25.\n",
    "\n",
    "(c) Using x and eps, generate a vector y according to the model\n",
    "\n",
    "$$ Y = -1 + 0.5X + \\epsilon $$\n",
    "\n",
    "What is the length of the vector $y$? What are the values of $\\beta_0$ and $\\beta_1$ in this linear model?\n",
    "\n",
    "(d) Create a scatterplot displaying the relationship between $x$ and $y$. Comment on what you observe.\n",
    "\n",
    "(e) Fit a least squares linear model to predict y using x. Comment on the model obtained. How do $\\hat{\\beta_0}$ and $\\hat{\\beta_1}$ compare to $\\beta_0$ and $\\beta_1$?\n",
    "\n",
    "(f) Display the least squares line on the scatterplot obtained in (d). Draw the population regression line on the plot, in a different color. Use the _legend()_ command to create an appropriate legend.\n",
    "\n",
    "(g) Now fit a polynomial regression model that predicts $y$ using $x$ and $x^2$. Is there evidence that the quadratic term improves the model fit? Explain your answer.\n",
    "\n",
    "(h) Repeat (a)–(f) after modifying the data generation process in such a way that there is less noise in the data. The model in (c) should remain the same. You can do this by decreasing the variance of the normal distribution used to generate the error term $\\epsilon$ in (b). Describe your results.\n",
    "\n",
    "(i) Repeat (a)–(f) after modifying the data generation process in such a way that there is more noise in the data. The model in (c) should remain the same. You can do this by increasing the variance of the normal distribution used to generate the error term $\\epsilon$ in (b). Describe your results.\n",
    "\n",
    "(j) What are the confidence intervals for $\\beta_0$ and $\\beta_1$ based on the original data set, the noisier data set, and the less noisy data set? Comment on your results."
   ]
  },
  {
   "cell_type": "code",
   "execution_count": 44,
   "metadata": {},
   "outputs": [
    {
     "data": {
      "text/html": [
       "<ol class=list-inline>\n",
       "\t<li>'The length of vector y is '</li>\n",
       "\t<li>'100'</li>\n",
       "</ol>\n"
      ],
      "text/latex": [
       "\\begin{enumerate*}\n",
       "\\item 'The length of vector y is '\n",
       "\\item '100'\n",
       "\\end{enumerate*}\n"
      ],
      "text/markdown": [
       "1. 'The length of vector y is '\n",
       "2. '100'\n",
       "\n",
       "\n"
      ],
      "text/plain": [
       "[1] \"The length of vector y is \" \"100\"                       "
      ]
     },
     "metadata": {},
     "output_type": "display_data"
    },
    {
     "data": {
      "text/html": [
       "'the intercept beta is -1'"
      ],
      "text/latex": [
       "'the intercept beta is -1'"
      ],
      "text/markdown": [
       "'the intercept beta is -1'"
      ],
      "text/plain": [
       "[1] \"the intercept beta is -1\""
      ]
     },
     "metadata": {},
     "output_type": "display_data"
    },
    {
     "data": {
      "text/html": [
       "'The slope beta is .5'"
      ],
      "text/latex": [
       "'The slope beta is .5'"
      ],
      "text/markdown": [
       "'The slope beta is .5'"
      ],
      "text/plain": [
       "[1] \"The slope beta is .5\""
      ]
     },
     "metadata": {},
     "output_type": "display_data"
    }
   ],
   "source": [
    "# -------------------------------\n",
    "# Question 11\n",
    "# -------------------------------\n",
    "set.seed(1)\n",
    "#(11a)\n",
    "x<-rnorm(100,0,1)\n",
    "#(11b)\n",
    "eps<-rnorm(100,0,.25)\n",
    "#(11c)\n",
    "y= -1+.5*x+eps\n",
    "c(\"The length of vector y is \", toString(length(y)))\n",
    "\"the intercept beta is -1\"\n",
    "\"The slope beta is .5\""
   ]
  },
  {
   "cell_type": "code",
   "execution_count": 45,
   "metadata": {},
   "outputs": [
    {
     "name": "stdout",
     "output_type": "stream",
     "text": [
      "[1] \"There appears to be a linear relationship between x and y. Datapoints are uniformly distributed around an imaginary line connecting x and y\"\n"
     ]
    },
    {
     "data": {
      "image/png": "[encoded data removed]",
      "text/plain": [
       "plot without title"
      ]
     },
     "metadata": {},
     "output_type": "display_data"
    }
   ],
   "source": [
    "#(11d)\n",
    "plot(x,y)\n",
    "print(\"There appears to be a linear relationship between x and y. Datapoints are uniformly distributed around an imaginary line connecting x and y\")"
   ]
  },
  {
   "cell_type": "code",
   "execution_count": 46,
   "metadata": {},
   "outputs": [
    {
     "data": {
      "text/plain": [
       "\n",
       "Call:\n",
       "lm(formula = y ~ x)\n",
       "\n",
       "Residuals:\n",
       "     Min       1Q   Median       3Q      Max \n",
       "-0.46921 -0.15344 -0.03487  0.13485  0.58654 \n",
       "\n",
       "Coefficients:\n",
       "            Estimate Std. Error t value Pr(>|t|)    \n",
       "(Intercept) -1.00942    0.02425  -41.63   <2e-16 ***\n",
       "x            0.49973    0.02693   18.56   <2e-16 ***\n",
       "---\n",
       "Signif. codes:  0 '***' 0.001 '**' 0.01 '*' 0.05 '.' 0.1 ' ' 1\n",
       "\n",
       "Residual standard error: 0.2407 on 98 degrees of freedom\n",
       "Multiple R-squared:  0.7784,\tAdjusted R-squared:  0.7762 \n",
       "F-statistic: 344.3 on 1 and 98 DF,  p-value: < 2.2e-16\n"
      ]
     },
     "metadata": {},
     "output_type": "display_data"
    },
    {
     "data": {
      "text/html": [
       "'The beta coefficients for this model are extremely close to the coefficients in the equation\\nthat generated vector y'"
      ],
      "text/latex": [
       "'The beta coefficients for this model are extremely close to the coefficients in the equation\\textbackslash{}nthat generated vector y'"
      ],
      "text/markdown": [
       "'The beta coefficients for this model are extremely close to the coefficients in the equation\\nthat generated vector y'"
      ],
      "text/plain": [
       "[1] \"The beta coefficients for this model are extremely close to the coefficients in the equation\\nthat generated vector y\""
      ]
     },
     "metadata": {},
     "output_type": "display_data"
    },
    {
     "data": {
      "text/html": [
       "<ol class=list-inline>\n",
       "\t<li>'The intercept coefficients differ by only '</li>\n",
       "\t<li>'0.00942315347693934'</li>\n",
       "</ol>\n"
      ],
      "text/latex": [
       "\\begin{enumerate*}\n",
       "\\item 'The intercept coefficients differ by only '\n",
       "\\item '0.00942315347693934'\n",
       "\\end{enumerate*}\n"
      ],
      "text/markdown": [
       "1. 'The intercept coefficients differ by only '\n",
       "2. '0.00942315347693934'\n",
       "\n",
       "\n"
      ],
      "text/plain": [
       "[1] \"The intercept coefficients differ by only \"\n",
       "[2] \"0.00942315347693934\"                       "
      ]
     },
     "metadata": {},
     "output_type": "display_data"
    },
    {
     "data": {
      "text/html": [
       "<ol class=list-inline>\n",
       "\t<li>'The slope coefficients differ by only '</li>\n",
       "\t<li>'0.000265096542982401'</li>\n",
       "</ol>\n"
      ],
      "text/latex": [
       "\\begin{enumerate*}\n",
       "\\item 'The slope coefficients differ by only '\n",
       "\\item '0.000265096542982401'\n",
       "\\end{enumerate*}\n"
      ],
      "text/markdown": [
       "1. 'The slope coefficients differ by only '\n",
       "2. '0.000265096542982401'\n",
       "\n",
       "\n"
      ],
      "text/plain": [
       "[1] \"The slope coefficients differ by only \"\n",
       "[2] \"0.000265096542982401\"                  "
      ]
     },
     "metadata": {},
     "output_type": "display_data"
    }
   ],
   "source": [
    "#(11e)\n",
    "\n",
    "lm11a.fit=lm(y ~ x)\n",
    "summary(lm11a.fit)\n",
    "\n",
    "\"The beta coefficients for this model are extremely close to the coefficients in the equation\n",
    "that generated vector y\"\n",
    "c(\"The intercept coefficients differ by only \", toString(-1-coef(lm11a.fit)[1]))\n",
    "c(\"The slope coefficients differ by only \", toString(.5-coef(lm11a.fit)[2]))"
   ]
  },
  {
   "cell_type": "code",
   "execution_count": 47,
   "metadata": {},
   "outputs": [
    {
     "data": {
      "image/png": "[encoded data removed]",
      "text/plain": [
       "plot without title"
      ]
     },
     "metadata": {},
     "output_type": "display_data"
    }
   ],
   "source": [
    "#(11f)\n",
    "plot(x,y)\n",
    "abline(lm11a.fit, col=\"red\")\n",
    "legend(-2,0, legend=c(\"regression line\"), col=\"red\", lty=1:2, cex=.8)"
   ]
  },
  {
   "cell_type": "code",
   "execution_count": 48,
   "metadata": {},
   "outputs": [
    {
     "data": {
      "text/plain": [
       "\n",
       "Call:\n",
       "lm(formula = y ~ x + poly(x, 2))\n",
       "\n",
       "Residuals:\n",
       "    Min      1Q  Median      3Q     Max \n",
       "-0.4913 -0.1563 -0.0322  0.1451  0.5675 \n",
       "\n",
       "Coefficients: (1 not defined because of singularities)\n",
       "            Estimate Std. Error t value Pr(>|t|)    \n",
       "(Intercept) -1.00942    0.02413 -41.836   <2e-16 ***\n",
       "x            0.49973    0.02680  18.647   <2e-16 ***\n",
       "poly(x, 2)1       NA         NA      NA       NA    \n",
       "poly(x, 2)2 -0.33602    0.23951  -1.403    0.164    \n",
       "---\n",
       "Signif. codes:  0 '***' 0.001 '**' 0.01 '*' 0.05 '.' 0.1 ' ' 1\n",
       "\n",
       "Residual standard error: 0.2395 on 97 degrees of freedom\n",
       "Multiple R-squared:  0.7828,\tAdjusted R-squared:  0.7784 \n",
       "F-statistic: 174.8 on 2 and 97 DF,  p-value: < 2.2e-16\n"
      ]
     },
     "metadata": {},
     "output_type": "display_data"
    },
    {
     "data": {
      "text/html": [
       "'There is a big increase in the F statistic (variance of data over variance of model) with the quadratic model (F=334)\\n compared to the F statistic in the simple linear model (F=175). The quadratic model is the better model to use'"
      ],
      "text/latex": [
       "'There is a big increase in the F statistic (variance of data over variance of model) with the quadratic model (F=334)\\textbackslash{}n compared to the F statistic in the simple linear model (F=175). The quadratic model is the better model to use'"
      ],
      "text/markdown": [
       "'There is a big increase in the F statistic (variance of data over variance of model) with the quadratic model (F=334)\\n compared to the F statistic in the simple linear model (F=175). The quadratic model is the better model to use'"
      ],
      "text/plain": [
       "[1] \"There is a big increase in the F statistic (variance of data over variance of model) with the quadratic model (F=334)\\n compared to the F statistic in the simple linear model (F=175). The quadratic model is the better model to use\""
      ]
     },
     "metadata": {},
     "output_type": "display_data"
    }
   ],
   "source": [
    "#(11g)\n",
    "poly11a.fit=lm(y~x+poly(x,2))\n",
    "summary(poly11a.fit)\n",
    "\n",
    "\"There is a big increase in the F statistic (variance of data over variance of model) with the quadratic model (F=334)\n",
    " compared to the F statistic in the simple linear model (F=175). The quadratic model is the better model to use\"  "
   ]
  },
  {
   "cell_type": "code",
   "execution_count": 49,
   "metadata": {},
   "outputs": [
    {
     "data": {
      "text/html": [
       "<ol class=list-inline>\n",
       "\t<li>'The length of vector y is '</li>\n",
       "\t<li>'100'</li>\n",
       "</ol>\n"
      ],
      "text/latex": [
       "\\begin{enumerate*}\n",
       "\\item 'The length of vector y is '\n",
       "\\item '100'\n",
       "\\end{enumerate*}\n"
      ],
      "text/markdown": [
       "1. 'The length of vector y is '\n",
       "2. '100'\n",
       "\n",
       "\n"
      ],
      "text/plain": [
       "[1] \"The length of vector y is \" \"100\"                       "
      ]
     },
     "metadata": {},
     "output_type": "display_data"
    },
    {
     "data": {
      "text/html": [
       "'the intercept beta is -1'"
      ],
      "text/latex": [
       "'the intercept beta is -1'"
      ],
      "text/markdown": [
       "'the intercept beta is -1'"
      ],
      "text/plain": [
       "[1] \"the intercept beta is -1\""
      ]
     },
     "metadata": {},
     "output_type": "display_data"
    },
    {
     "data": {
      "text/html": [
       "'The slope beta is .5'"
      ],
      "text/latex": [
       "'The slope beta is .5'"
      ],
      "text/markdown": [
       "'The slope beta is .5'"
      ],
      "text/plain": [
       "[1] \"The slope beta is .5\""
      ]
     },
     "metadata": {},
     "output_type": "display_data"
    },
    {
     "name": "stdout",
     "output_type": "stream",
     "text": [
      "[1] \"There appears to be a linear relationship between x and y. Datapoints are uniformly distributed around an imaginary line connecting x and y\"\n"
     ]
    },
    {
     "data": {
      "text/plain": [
       "\n",
       "Call:\n",
       "lm(formula = y ~ x)\n",
       "\n",
       "Residuals:\n",
       "      Min        1Q    Median        3Q       Max \n",
       "-0.018768 -0.006138 -0.001395  0.005394  0.023462 \n",
       "\n",
       "Coefficients:\n",
       "              Estimate Std. Error t value Pr(>|t|)    \n",
       "(Intercept) -1.0003769  0.0009699 -1031.5   <2e-16 ***\n",
       "x            0.4999894  0.0010773   464.1   <2e-16 ***\n",
       "---\n",
       "Signif. codes:  0 '***' 0.001 '**' 0.01 '*' 0.05 '.' 0.1 ' ' 1\n",
       "\n",
       "Residual standard error: 0.009628 on 98 degrees of freedom\n",
       "Multiple R-squared:  0.9995,\tAdjusted R-squared:  0.9995 \n",
       "F-statistic: 2.154e+05 on 1 and 98 DF,  p-value: < 2.2e-16\n"
      ]
     },
     "metadata": {},
     "output_type": "display_data"
    },
    {
     "data": {
      "text/html": [
       "'The beta coefficients for this model are extremely close to the coefficients in the equation\\nthat generated vector y'"
      ],
      "text/latex": [
       "'The beta coefficients for this model are extremely close to the coefficients in the equation\\textbackslash{}nthat generated vector y'"
      ],
      "text/markdown": [
       "'The beta coefficients for this model are extremely close to the coefficients in the equation\\nthat generated vector y'"
      ],
      "text/plain": [
       "[1] \"The beta coefficients for this model are extremely close to the coefficients in the equation\\nthat generated vector y\""
      ]
     },
     "metadata": {},
     "output_type": "display_data"
    },
    {
     "data": {
      "text/html": [
       "<ol class=list-inline>\n",
       "\t<li>'The intercept coefficients differ by only '</li>\n",
       "\t<li>'0.000376926139077138'</li>\n",
       "</ol>\n"
      ],
      "text/latex": [
       "\\begin{enumerate*}\n",
       "\\item 'The intercept coefficients differ by only '\n",
       "\\item '0.000376926139077138'\n",
       "\\end{enumerate*}\n"
      ],
      "text/markdown": [
       "1. 'The intercept coefficients differ by only '\n",
       "2. '0.000376926139077138'\n",
       "\n",
       "\n"
      ],
      "text/plain": [
       "[1] \"The intercept coefficients differ by only \"\n",
       "[2] \"0.000376926139077138\"                      "
      ]
     },
     "metadata": {},
     "output_type": "display_data"
    },
    {
     "data": {
      "text/html": [
       "<ol class=list-inline>\n",
       "\t<li>'The slope coefficients differ by only '</li>\n",
       "\t<li>'1.06038617196935e-05'</li>\n",
       "</ol>\n"
      ],
      "text/latex": [
       "\\begin{enumerate*}\n",
       "\\item 'The slope coefficients differ by only '\n",
       "\\item '1.06038617196935e-05'\n",
       "\\end{enumerate*}\n"
      ],
      "text/markdown": [
       "1. 'The slope coefficients differ by only '\n",
       "2. '1.06038617196935e-05'\n",
       "\n",
       "\n"
      ],
      "text/plain": [
       "[1] \"The slope coefficients differ by only \"\n",
       "[2] \"1.06038617196935e-05\"                  "
      ]
     },
     "metadata": {},
     "output_type": "display_data"
    },
    {
     "data": {
      "text/plain": [
       "\n",
       "Call:\n",
       "lm(formula = y ~ x + poly(x, 2))\n",
       "\n",
       "Residuals:\n",
       "      Min        1Q    Median        3Q       Max \n",
       "-0.019650 -0.006254 -0.001288  0.005803  0.022700 \n",
       "\n",
       "Coefficients: (1 not defined because of singularities)\n",
       "              Estimate Std. Error   t value Pr(>|t|)    \n",
       "(Intercept) -1.0003769  0.0009651 -1036.534   <2e-16 ***\n",
       "x            0.4999894  0.0010720   466.413   <2e-16 ***\n",
       "poly(x, 2)1         NA         NA        NA       NA    \n",
       "poly(x, 2)2 -0.0134406  0.0095803    -1.403    0.164    \n",
       "---\n",
       "Signif. codes:  0 '***' 0.001 '**' 0.01 '*' 0.05 '.' 0.1 ' ' 1\n",
       "\n",
       "Residual standard error: 0.00958 on 97 degrees of freedom\n",
       "Multiple R-squared:  0.9996,\tAdjusted R-squared:  0.9995 \n",
       "F-statistic: 1.088e+05 on 2 and 97 DF,  p-value: < 2.2e-16\n"
      ]
     },
     "metadata": {},
     "output_type": "display_data"
    },
    {
     "data": {
      "text/html": [
       "'Unlike the previous questions, the observations now have less noise. Interestingly, The simple regression model,\\nnot the quadratic model, appears to fit the data better - The simple lm has an F statistic of 215400 while the F statistic\\nof the quadratic model is 108800'"
      ],
      "text/latex": [
       "'Unlike the previous questions, the observations now have less noise. Interestingly, The simple regression model,\\textbackslash{}nnot the quadratic model, appears to fit the data better - The simple lm has an F statistic of 215400 while the F statistic\\textbackslash{}nof the quadratic model is 108800'"
      ],
      "text/markdown": [
       "'Unlike the previous questions, the observations now have less noise. Interestingly, The simple regression model,\\nnot the quadratic model, appears to fit the data better - The simple lm has an F statistic of 215400 while the F statistic\\nof the quadratic model is 108800'"
      ],
      "text/plain": [
       "[1] \"Unlike the previous questions, the observations now have less noise. Interestingly, The simple regression model,\\nnot the quadratic model, appears to fit the data better - The simple lm has an F statistic of 215400 while the F statistic\\nof the quadratic model is 108800\""
      ]
     },
     "metadata": {},
     "output_type": "display_data"
    },
    {
     "data": {
      "image/png": "[encoded data removed]",
      "text/plain": [
       "plot without title"
      ]
     },
     "metadata": {},
     "output_type": "display_data"
    }
   ],
   "source": [
    "#(11h)\n",
    "set.seed(1)\n",
    "\n",
    "x<-rnorm(100,0,1)\n",
    "\n",
    "eps<-rnorm(100,0,.01)\n",
    "\n",
    "y= -1+.5*x+eps\n",
    "c(\"The length of vector y is \", toString(length(y)))\n",
    "\"the intercept beta is -1\"\n",
    "\"The slope beta is .5\"\n",
    "\n",
    "plot(x,y)\n",
    "print(\"There appears to be a linear relationship between x and y. Datapoints are uniformly distributed around an imaginary line connecting x and y\")\n",
    "\n",
    "lm11b.fit=lm(y ~ x)\n",
    "summary(lm11b.fit)\n",
    "\"The beta coefficients for this model are extremely close to the coefficients in the equation\n",
    "that generated vector y\"\n",
    "c(\"The intercept coefficients differ by only \", toString(-1-coef(lm11b.fit)[1]))\n",
    "c(\"The slope coefficients differ by only \", toString(.5-coef(lm11b.fit)[2]))\n",
    "\n",
    "plot(x,y)\n",
    "abline(lm11b.fit)\n",
    "\n",
    "poly11b.fit=lm(y~x+poly(x,2))\n",
    "summary(poly11b.fit)\n",
    "\n",
    "\"Unlike the previous questions, the observations now have less noise. Interestingly, The simple regression model,\n",
    "not the quadratic model, appears to fit the data better - The simple lm has an F statistic of 215400 while the F statistic\n",
    "of the quadratic model is 108800\"  "
   ]
  },
  {
   "cell_type": "code",
   "execution_count": 50,
   "metadata": {},
   "outputs": [
    {
     "data": {
      "text/html": [
       "<ol class=list-inline>\n",
       "\t<li>'The length of vector y is '</li>\n",
       "\t<li>'100'</li>\n",
       "</ol>\n"
      ],
      "text/latex": [
       "\\begin{enumerate*}\n",
       "\\item 'The length of vector y is '\n",
       "\\item '100'\n",
       "\\end{enumerate*}\n"
      ],
      "text/markdown": [
       "1. 'The length of vector y is '\n",
       "2. '100'\n",
       "\n",
       "\n"
      ],
      "text/plain": [
       "[1] \"The length of vector y is \" \"100\"                       "
      ]
     },
     "metadata": {},
     "output_type": "display_data"
    },
    {
     "data": {
      "text/html": [
       "'the intercept beta is -1'"
      ],
      "text/latex": [
       "'the intercept beta is -1'"
      ],
      "text/markdown": [
       "'the intercept beta is -1'"
      ],
      "text/plain": [
       "[1] \"the intercept beta is -1\""
      ]
     },
     "metadata": {},
     "output_type": "display_data"
    },
    {
     "data": {
      "text/html": [
       "'The slope beta is .5'"
      ],
      "text/latex": [
       "'The slope beta is .5'"
      ],
      "text/markdown": [
       "'The slope beta is .5'"
      ],
      "text/plain": [
       "[1] \"The slope beta is .5\""
      ]
     },
     "metadata": {},
     "output_type": "display_data"
    },
    {
     "name": "stdout",
     "output_type": "stream",
     "text": [
      "[1] \"There appears to be a linear relationship between x and y. Datapoints are uniformly distributed around an imaginary line connecting x and y\"\n"
     ]
    },
    {
     "data": {
      "text/plain": [
       "\n",
       "Call:\n",
       "lm(formula = y ~ x)\n",
       "\n",
       "Residuals:\n",
       "    Min      1Q  Median      3Q     Max \n",
       "-1.8768 -0.6138 -0.1395  0.5394  2.3462 \n",
       "\n",
       "Coefficients:\n",
       "            Estimate Std. Error t value Pr(>|t|)    \n",
       "(Intercept) -1.03769    0.09699 -10.699  < 2e-16 ***\n",
       "x            0.49894    0.10773   4.632 1.12e-05 ***\n",
       "---\n",
       "Signif. codes:  0 '***' 0.001 '**' 0.01 '*' 0.05 '.' 0.1 ' ' 1\n",
       "\n",
       "Residual standard error: 0.9628 on 98 degrees of freedom\n",
       "Multiple R-squared:  0.1796,\tAdjusted R-squared:  0.1712 \n",
       "F-statistic: 21.45 on 1 and 98 DF,  p-value: 1.117e-05\n"
      ]
     },
     "metadata": {},
     "output_type": "display_data"
    },
    {
     "data": {
      "text/html": [
       "'The beta coefficients for this model are extremely close to the coefficients in the equation\\nthat generated vector y'"
      ],
      "text/latex": [
       "'The beta coefficients for this model are extremely close to the coefficients in the equation\\textbackslash{}nthat generated vector y'"
      ],
      "text/markdown": [
       "'The beta coefficients for this model are extremely close to the coefficients in the equation\\nthat generated vector y'"
      ],
      "text/plain": [
       "[1] \"The beta coefficients for this model are extremely close to the coefficients in the equation\\nthat generated vector y\""
      ]
     },
     "metadata": {},
     "output_type": "display_data"
    },
    {
     "data": {
      "text/html": [
       "<ol class=list-inline>\n",
       "\t<li>'The intercept coefficients differ by only '</li>\n",
       "\t<li>'0.0376926139077565'</li>\n",
       "</ol>\n"
      ],
      "text/latex": [
       "\\begin{enumerate*}\n",
       "\\item 'The intercept coefficients differ by only '\n",
       "\\item '0.0376926139077565'\n",
       "\\end{enumerate*}\n"
      ],
      "text/markdown": [
       "1. 'The intercept coefficients differ by only '\n",
       "2. '0.0376926139077565'\n",
       "\n",
       "\n"
      ],
      "text/plain": [
       "[1] \"The intercept coefficients differ by only \"\n",
       "[2] \"0.0376926139077565\"                        "
      ]
     },
     "metadata": {},
     "output_type": "display_data"
    },
    {
     "data": {
      "text/html": [
       "<ol class=list-inline>\n",
       "\t<li>'The slope coefficients differ by only '</li>\n",
       "\t<li>'0.00106038617192922'</li>\n",
       "</ol>\n"
      ],
      "text/latex": [
       "\\begin{enumerate*}\n",
       "\\item 'The slope coefficients differ by only '\n",
       "\\item '0.00106038617192922'\n",
       "\\end{enumerate*}\n"
      ],
      "text/markdown": [
       "1. 'The slope coefficients differ by only '\n",
       "2. '0.00106038617192922'\n",
       "\n",
       "\n"
      ],
      "text/plain": [
       "[1] \"The slope coefficients differ by only \"\n",
       "[2] \"0.00106038617192922\"                   "
      ]
     },
     "metadata": {},
     "output_type": "display_data"
    },
    {
     "data": {
      "text/plain": [
       "\n",
       "Call:\n",
       "lm(formula = y ~ x + poly(x, 2))\n",
       "\n",
       "Residuals:\n",
       "    Min      1Q  Median      3Q     Max \n",
       "-1.9650 -0.6254 -0.1288  0.5803  2.2700 \n",
       "\n",
       "Coefficients: (1 not defined because of singularities)\n",
       "            Estimate Std. Error t value Pr(>|t|)    \n",
       "(Intercept) -1.03769    0.09651 -10.752  < 2e-16 ***\n",
       "x            0.49894    0.10720   4.654 1.03e-05 ***\n",
       "poly(x, 2)1       NA         NA      NA       NA    \n",
       "poly(x, 2)2 -1.34406    0.95803  -1.403    0.164    \n",
       "---\n",
       "Signif. codes:  0 '***' 0.001 '**' 0.01 '*' 0.05 '.' 0.1 ' ' 1\n",
       "\n",
       "Residual standard error: 0.958 on 97 degrees of freedom\n",
       "Multiple R-squared:  0.1959,\tAdjusted R-squared:  0.1793 \n",
       "F-statistic: 11.82 on 2 and 97 DF,  p-value: 2.557e-05\n"
      ]
     },
     "metadata": {},
     "output_type": "display_data"
    },
    {
     "data": {
      "text/html": [
       "'Unlike the previous questions, the observations now have more noise. Interestingly, The simple regression model,\\nnot the quadratic model, appears to fit the data better - The simple lm has an F statistic of 21.45 while the F statistic\\nof the quadratic model is 11.82'"
      ],
      "text/latex": [
       "'Unlike the previous questions, the observations now have more noise. Interestingly, The simple regression model,\\textbackslash{}nnot the quadratic model, appears to fit the data better - The simple lm has an F statistic of 21.45 while the F statistic\\textbackslash{}nof the quadratic model is 11.82'"
      ],
      "text/markdown": [
       "'Unlike the previous questions, the observations now have more noise. Interestingly, The simple regression model,\\nnot the quadratic model, appears to fit the data better - The simple lm has an F statistic of 21.45 while the F statistic\\nof the quadratic model is 11.82'"
      ],
      "text/plain": [
       "[1] \"Unlike the previous questions, the observations now have more noise. Interestingly, The simple regression model,\\nnot the quadratic model, appears to fit the data better - The simple lm has an F statistic of 21.45 while the F statistic\\nof the quadratic model is 11.82\""
      ]
     },
     "metadata": {},
     "output_type": "display_data"
    },
    {
     "data": {
      "image/png": "[encoded data removed]",
      "text/plain": [
       "plot without title"
      ]
     },
     "metadata": {},
     "output_type": "display_data"
    }
   ],
   "source": [
    "#(11i)\n",
    "set.seed(1)\n",
    "\n",
    "x<-rnorm(100,0,1)\n",
    "\n",
    "eps<-rnorm(100,0,1)\n",
    "\n",
    "y= -1+.5*x+eps\n",
    "c(\"The length of vector y is \", toString(length(y)))\n",
    "\"the intercept beta is -1\"\n",
    "\"The slope beta is .5\"\n",
    "\n",
    "plot(x,y)\n",
    "print(\"There appears to be a linear relationship between x and y. Datapoints are uniformly distributed around an imaginary line connecting x and y\")\n",
    "\n",
    "lm11c.fit=lm(y ~ x)\n",
    "summary(lm11c.fit)\n",
    "\"The beta coefficients for this model are extremely close to the coefficients in the equation\n",
    "that generated vector y\"\n",
    "c(\"The intercept coefficients differ by only \", toString(-1-coef(lm11c.fit)[1]))\n",
    "c(\"The slope coefficients differ by only \", toString(.5-coef(lm11c.fit)[2]))\n",
    "\n",
    "plot(x,y)\n",
    "abline(lm11c.fit)\n",
    "\n",
    "poly11c.fit=lm(y~x+poly(x,2))\n",
    "summary(poly11c.fit)\n",
    "\n",
    "\"Unlike the previous questions, the observations now have more noise. Interestingly, The simple regression model,\n",
    "not the quadratic model, appears to fit the data better - The simple lm has an F statistic of 21.45 while the F statistic\n",
    "of the quadratic model is 11.82\"  "
   ]
  },
  {
   "cell_type": "code",
   "execution_count": 51,
   "metadata": {},
   "outputs": [
    {
     "data": {
      "text/html": [
       "'Original-simple linear'"
      ],
      "text/latex": [
       "'Original-simple linear'"
      ],
      "text/markdown": [
       "'Original-simple linear'"
      ],
      "text/plain": [
       "[1] \"Original-simple linear\""
      ]
     },
     "metadata": {},
     "output_type": "display_data"
    },
    {
     "data": {
      "text/html": [
       "<table>\n",
       "<thead><tr><th></th><th scope=col>2.5 %</th><th scope=col>97.5 %</th></tr></thead>\n",
       "<tbody>\n",
       "\t<tr><th scope=row>(Intercept)</th><td>-1.0575402</td><td>-0.9613061</td></tr>\n",
       "\t<tr><th scope=row>x</th><td> 0.4462897</td><td> 0.5531801</td></tr>\n",
       "</tbody>\n",
       "</table>\n"
      ],
      "text/latex": [
       "\\begin{tabular}{r|ll}\n",
       "  & 2.5 \\% & 97.5 \\%\\\\\n",
       "\\hline\n",
       "\t(Intercept) & -1.0575402 & -0.9613061\\\\\n",
       "\tx &  0.4462897 &  0.5531801\\\\\n",
       "\\end{tabular}\n"
      ],
      "text/markdown": [
       "\n",
       "| <!--/--> | 2.5 % | 97.5 % |\n",
       "|---|---|---|\n",
       "| (Intercept) | -1.0575402 | -0.9613061 |\n",
       "| x |  0.4462897 |  0.5531801 |\n",
       "\n"
      ],
      "text/plain": [
       "            2.5 %      97.5 %    \n",
       "(Intercept) -1.0575402 -0.9613061\n",
       "x            0.4462897  0.5531801"
      ]
     },
     "metadata": {},
     "output_type": "display_data"
    },
    {
     "data": {
      "text/html": [
       "'less noise -simple linear'"
      ],
      "text/latex": [
       "'less noise -simple linear'"
      ],
      "text/markdown": [
       "'less noise -simple linear'"
      ],
      "text/plain": [
       "[1] \"less noise -simple linear\""
      ]
     },
     "metadata": {},
     "output_type": "display_data"
    },
    {
     "data": {
      "text/html": [
       "<table>\n",
       "<thead><tr><th></th><th scope=col>2.5 %</th><th scope=col>97.5 %</th></tr></thead>\n",
       "<tbody>\n",
       "\t<tr><th scope=row>(Intercept)</th><td>-1.0023016</td><td>-0.9984522</td></tr>\n",
       "\t<tr><th scope=row>x</th><td> 0.4978516</td><td> 0.5021272</td></tr>\n",
       "</tbody>\n",
       "</table>\n"
      ],
      "text/latex": [
       "\\begin{tabular}{r|ll}\n",
       "  & 2.5 \\% & 97.5 \\%\\\\\n",
       "\\hline\n",
       "\t(Intercept) & -1.0023016 & -0.9984522\\\\\n",
       "\tx &  0.4978516 &  0.5021272\\\\\n",
       "\\end{tabular}\n"
      ],
      "text/markdown": [
       "\n",
       "| <!--/--> | 2.5 % | 97.5 % |\n",
       "|---|---|---|\n",
       "| (Intercept) | -1.0023016 | -0.9984522 |\n",
       "| x |  0.4978516 |  0.5021272 |\n",
       "\n"
      ],
      "text/plain": [
       "            2.5 %      97.5 %    \n",
       "(Intercept) -1.0023016 -0.9984522\n",
       "x            0.4978516  0.5021272"
      ]
     },
     "metadata": {},
     "output_type": "display_data"
    },
    {
     "data": {
      "text/html": [
       "'more noise -simple linear'"
      ],
      "text/latex": [
       "'more noise -simple linear'"
      ],
      "text/markdown": [
       "'more noise -simple linear'"
      ],
      "text/plain": [
       "[1] \"more noise -simple linear\""
      ]
     },
     "metadata": {},
     "output_type": "display_data"
    },
    {
     "data": {
      "text/html": [
       "<table>\n",
       "<thead><tr><th></th><th scope=col>2.5 %</th><th scope=col>97.5 %</th></tr></thead>\n",
       "<tbody>\n",
       "\t<tr><th scope=row>(Intercept)</th><td>-1.2301607</td><td>-0.8452245</td></tr>\n",
       "\t<tr><th scope=row>x</th><td> 0.2851588</td><td> 0.7127204</td></tr>\n",
       "</tbody>\n",
       "</table>\n"
      ],
      "text/latex": [
       "\\begin{tabular}{r|ll}\n",
       "  & 2.5 \\% & 97.5 \\%\\\\\n",
       "\\hline\n",
       "\t(Intercept) & -1.2301607 & -0.8452245\\\\\n",
       "\tx &  0.2851588 &  0.7127204\\\\\n",
       "\\end{tabular}\n"
      ],
      "text/markdown": [
       "\n",
       "| <!--/--> | 2.5 % | 97.5 % |\n",
       "|---|---|---|\n",
       "| (Intercept) | -1.2301607 | -0.8452245 |\n",
       "| x |  0.2851588 |  0.7127204 |\n",
       "\n"
      ],
      "text/plain": [
       "            2.5 %      97.5 %    \n",
       "(Intercept) -1.2301607 -0.8452245\n",
       "x            0.2851588  0.7127204"
      ]
     },
     "metadata": {},
     "output_type": "display_data"
    },
    {
     "data": {
      "text/html": [
       "'Not surprisingly, the 95% CI is smallest for the less noisy data, medium for the original data, and largest\\nfor the noisiest data'"
      ],
      "text/latex": [
       "'Not surprisingly, the 95\\% CI is smallest for the less noisy data, medium for the original data, and largest\\textbackslash{}nfor the noisiest data'"
      ],
      "text/markdown": [
       "'Not surprisingly, the 95% CI is smallest for the less noisy data, medium for the original data, and largest\\nfor the noisiest data'"
      ],
      "text/plain": [
       "[1] \"Not surprisingly, the 95% CI is smallest for the less noisy data, medium for the original data, and largest\\nfor the noisiest data\""
      ]
     },
     "metadata": {},
     "output_type": "display_data"
    }
   ],
   "source": [
    "#(11j)\n",
    "\"Original-simple linear\"\n",
    "confint(lm11a.fit,level=.95)\n",
    "\n",
    "\n",
    "\"less noise -simple linear\"\n",
    "confint(lm11b.fit,level=.95)\n",
    "\n",
    "\n",
    "\"more noise -simple linear\"\n",
    "confint(lm11c.fit,level=.95)\n",
    "\n",
    "\"Not surprisingly, the 95% CI is smallest for the less noisy data, medium for the original data, and largest\n",
    "for the noisiest data\""
   ]
  },
  {
   "cell_type": "code",
   "execution_count": null,
   "metadata": {},
   "outputs": [],
   "source": []
  }
 ],
 "metadata": {
  "kernelspec": {
   "display_name": "R",
   "language": "R",
   "name": "ir"
  },
  "language_info": {
   "codemirror_mode": "r",
   "file_extension": ".r",
   "mimetype": "text/x-r-source",
   "name": "R",
   "pygments_lexer": "r",
   "version": "3.5.0"
  }
 },
 "nbformat": 4,
 "nbformat_minor": 2
}
