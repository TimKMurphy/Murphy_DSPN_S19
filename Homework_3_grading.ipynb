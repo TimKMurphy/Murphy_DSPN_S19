{
 "cells": [
  {
   "cell_type": "markdown",
   "metadata": {},
   "source": [
    "# Homework 3 - Grading"
   ]
  },
  {
   "cell_type": "markdown",
   "metadata": {},
   "source": [
    "Question 1a: Correct"
   ]
  },
  {
   "cell_type": "markdown",
   "metadata": {},
   "source": [
    "Question 1b: Correct"
   ]
  },
  {
   "cell_type": "markdown",
   "metadata": {},
   "source": [
    "Question 1c: Correct"
   ]
  },
  {
   "cell_type": "markdown",
   "metadata": {},
   "source": [
    "Question 2: Partial credit, work shown correct<br>\n",
    " Answer to last question insufficient- said that means of XY affect OLS via beta coefficients. I did not explicitly state that the these anchor regression mean around means of X, Y distributions."
   ]
  },
  {
   "cell_type": "markdown",
   "metadata": {},
   "source": [
    "Question 3: Correct<br>\n",
    "Note: $E[X]$ does not need to be included in equation."
   ]
  },
  {
   "cell_type": "markdown",
   "metadata": {},
   "source": [
    "Question 4: Correct<br>\n",
    "Note that the explanation for RSE could be stated in terms of confidence of model. I explained it in terms of SE of error term. "
   ]
  },
  {
   "cell_type": "markdown",
   "metadata": {},
   "source": [
    "Question 5a: Incorrect<br>\n",
    "I believe I messed up the interaction terms somehow. Next time need to show work <br>\n",
    "Question 5b: Correct<br>\n",
    "Question 5c: Correct<br>"
   ]
  },
  {
   "cell_type": "markdown",
   "metadata": {},
   "source": [
    "Question 6: Partial credit, first two question answered correctly<br>\n",
    "Incorrect violation of assumptions. Stated linearity violtation, correct answer was independence of samples and identical dist."
   ]
  },
  {
   "cell_type": "markdown",
   "metadata": {},
   "source": [
    "Question 7a:Correct<br>\n",
    "Question 7b:Correct<br>\n",
    "Question 7c:Correct<br>"
   ]
  },
  {
   "cell_type": "markdown",
   "metadata": {},
   "source": [
    "Question 8a:Correct<br>\n",
    "Question 8b:Correct<br>\n",
    "Question 8c:Correct<br>\n",
    "Question 8d:Correct<br>\n",
    "Note: My answer is correct but I was not aware of the AIC() function."
   ]
  },
  {
   "cell_type": "markdown",
   "metadata": {},
   "source": [
    "Question 9a:Correct<br>\n",
    "Question 9b:Incorrect<br>\n",
    "Code was incorrect, but also, should really have noticed that numbers I got were well above 1 or -1....<br>\n",
    "Question 9c:Correct<br>\n",
    "Question 9d:Correct<br>\n",
    "Question 9e:Correct<br>\n",
    "Question 9f:Correct<br>"
   ]
  },
  {
   "cell_type": "markdown",
   "metadata": {},
   "source": [
    "Question 10a:Correct<br>\n",
    "Question 10b:Partial - missed non-significant p-value for Urban<br>\n",
    "Question 10c:Correct<br>\n",
    "Question 10d:Incorrect<br>\n",
    "Did not write in proper form<br>\n",
    "Question 10e:Incorrect<br>\n",
    "Dumb mistake, wrote down non-rejected null<br>\n",
    "Question 10f:Correct<br>\n",
    "Question 10g:Correct<br>\n",
    "Question 10h:Correct<br>\n",
    "Note: I got the same results but did not include studentized residuals<br>\n"
   ]
  },
  {
   "cell_type": "markdown",
   "metadata": {},
   "source": [
    "Question 11a:Correct<br>\n",
    "Question 11b:Incorrect<br>\n",
    "used variance, not sd, in rnorm function<br>\n",
    "Question 11c:Correct<br>\n",
    "Question 11d:Correct<br>\n",
    "Question 11e:Correct<br>\n",
    "Question 11f:Correct<br>\n",
    "Question 11g:Correct<br>\n",
    "Note: Differences in F stats due to mistake made in 11b<br>\n",
    "Question 11h:Correct<br>\n",
    "Question 11i:Correct<br>\n",
    "Question 11j:Correct<br>\n",
    "\n"
   ]
  },
  {
   "cell_type": "markdown",
   "metadata": {},
   "source": [
    "Summary: Overall I would give myself a B or B+ on this homework. Mistakes made on conceptual questions are of more concern to me than the ones made on programming questions (8-10), but even conceptual mistakes were not grossly off. I feel confident in my understanding on regression and mixed models."
   ]
  },
  {
   "cell_type": "code",
   "execution_count": null,
   "metadata": {},
   "outputs": [],
   "source": []
  }
 ],
 "metadata": {
  "kernelspec": {
   "display_name": "R",
   "language": "R",
   "name": "ir"
  },
  "language_info": {
   "codemirror_mode": "r",
   "file_extension": ".r",
   "mimetype": "text/x-r-source",
   "name": "R",
   "pygments_lexer": "r",
   "version": "3.5.0"
  }
 },
 "nbformat": 4,
 "nbformat_minor": 2
}
