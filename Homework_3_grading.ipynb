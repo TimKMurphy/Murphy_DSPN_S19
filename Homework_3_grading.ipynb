{
 "cells": [
  {
   "cell_type": "markdown",
   "metadata": {},
   "source": [
    "# Homework 3 - Grading"
   ]
  },
  {
   "cell_type": "markdown",
   "metadata": {},
   "source": [
    "Question 1a: <font color=\"blue\"> Correct</font>"
   ]
  },
  {
   "cell_type": "markdown",
   "metadata": {},
   "source": [
    "Question 1b: <font color=\"blue\"> Correct</font>"
   ]
  },
  {
   "cell_type": "markdown",
   "metadata": {},
   "source": [
    "Question 1c: <font color=\"blue\"> Correct</font>"
   ]
  },
  {
   "cell_type": "markdown",
   "metadata": {},
   "source": [
    "Question 2: <font color=purple> Partial credit, work shown correct</font><br>\n",
    "<font color=\"red\"> Answer to last question insufficient</font> - said that means of XY affect OLS via beta coefficients. I did not explicitly state that the these anchor regression mean around means of X, Y distributions."
   ]
  },
  {
   "cell_type": "markdown",
   "metadata": {},
   "source": [
    "Question 3: <font color=\"blue\"> Correct</font><br>\n",
    "Note: $E[X]$ does not need to be included in equation."
   ]
  },
  {
   "cell_type": "markdown",
   "metadata": {},
   "source": [
    "Question 4: <font color=\"blue\"> Correct</font><br>\n",
    "Note that the explanation for RSE could be stated in terms of confidence of model. I explained it in terms of SE of error term. "
   ]
  },
  {
   "cell_type": "markdown",
   "metadata": {},
   "source": [
    "Question 5a: <font color=\"red\"> Incorrect </font><br>\n",
    "I believe I messed up the interaction terms somehow. Next time need to show work <br>\n",
    "Question 5b: <font color=\"blue\"> Correct </font><br>\n",
    "Question 5c: <font color=\"blue\"> Correct </font><br>"
   ]
  },
  {
   "cell_type": "markdown",
   "metadata": {},
   "source": [
    "Question 6: <font color=purple> Partial credit, first two question answered correctly</font><br>\n",
    "<font color=\"red\"> Incorrect violation of assumptions. Stated linearity violtation, correct answer was independence of samples and identical dist."
   ]
  },
  {
   "cell_type": "markdown",
   "metadata": {},
   "source": [
    "Question 7a:<font color=\"blue\">Correct</font><br>\n",
    "Question 7b:<font color=\"blue\">Correct</font><br>\n",
    "Question 7c:<font color=\"blue\">Correct</font><br>"
   ]
  },
  {
   "cell_type": "markdown",
   "metadata": {},
   "source": [
    "Question 8a:<font color=\"blue\">Correct</font><br>\n",
    "Question 8b:<font color=\"blue\">Correct</font><br>\n",
    "Question 8c:<font color=\"blue\">Correct</font><br>\n",
    "Question 8d:<font color=\"blue\">Correct</font><br>\n",
    "Note: My answer is correct but I was not aware of the AIC() function."
   ]
  },
  {
   "cell_type": "markdown",
   "metadata": {},
   "source": [
    "Question 9a:<font color=\"blue\">Correct</font><br>\n",
    "Question 9b:<font color=\"red\">Incorrect</font><br>\n",
    "Code was incorrect, but also, should really have noticed that numbers I got were well above 1 or -1....<br>\n",
    "Question 9c:<font color=\"blue\">Correct</font><br>\n",
    "Question 9d:<font color=\"blue\">Correct</font><br>\n",
    "Question 9e:<font color=\"blue\">Correct</font><br>\n",
    "Question 9f:<font color=\"blue\">Correct</font><br>"
   ]
  },
  {
   "cell_type": "markdown",
   "metadata": {},
   "source": [
    "Question 10a:<font color=\"blue\">Correct</font><br>\n",
    "Question 10b:<font color=\"purple\">Partial - missed non-significant p-value for Urban</font><br>\n",
    "Question 10c:<font color=\"blue\">Correct</font><br>\n",
    "Question 10d:<font color=\"red\">Incorrect</font><br>\n",
    "<font color=\"red\">Did not write in proper form</font><br>\n",
    "Question 10e:<font color=\"red\">Incorrect</font><br>\n",
    "<font color=\"red\">Dumb mistake, wrote down non-rejected null</font><br>\n",
    "Question 10f:<font color=\"blue\">Correct</font><br>\n",
    "Question 10g:<font color=\"blue\">Correct</font><br>\n",
    "Question 10h:<font color=\"blue\">Correct</font><br>\n",
    "Note: I got the same results but did not include studentized residuals<br>\n"
   ]
  },
  {
   "cell_type": "markdown",
   "metadata": {},
   "source": [
    "Question 11a:<font color=\"blue\">Correct</font><br>\n",
    "Question 11b:<font color=\"red\">Incorrect</font><br>\n",
    "<font color=\"red\">used variance, not sd, in rnorm function</font><br>\n",
    "Question 11c:<font color=\"blue\">Correct</font><br>\n",
    "Question 11d:<font color=\"blue\">Correct</font><br>\n",
    "Question 11e:<font color=\"blue\">Correct</font><br>\n",
    "Question 11f:<font color=\"blue\">Correct</font><br>\n",
    "Question 11g:<font color=\"blue\">Correct</font><br>\n",
    "Note: Differences in F stats due to mistake made in 11b<br>\n",
    "Question 11h:<font color=\"blue\">Correct</font><br>\n",
    "Question 11i:<font color=\"blue\">Correct</font><br>\n",
    "Question 11j:<font color=\"blue\">Correct</font><br>\n",
    "\n"
   ]
  },
  {
   "cell_type": "markdown",
   "metadata": {},
   "source": [
    "Summary: Overall I would give myself a B or B+ on this homework. Mistakes made on conceptual questions are of more concern to me than the ones made on programming questions (8-10), but even conceptual mistakes were not grossly off. I feel confident in my understanding on regression and mixed models."
   ]
  },
  {
   "cell_type": "code",
   "execution_count": null,
   "metadata": {},
   "outputs": [],
   "source": []
  }
 ],
 "metadata": {
  "kernelspec": {
   "display_name": "R",
   "language": "R",
   "name": "ir"
  },
  "language_info": {
   "codemirror_mode": "r",
   "file_extension": ".r",
   "mimetype": "text/x-r-source",
   "name": "R",
   "pygments_lexer": "r",
   "version": "3.5.0"
  }
 },
 "nbformat": 4,
 "nbformat_minor": 2
}
